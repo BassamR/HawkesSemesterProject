{
 "cells": [
  {
   "cell_type": "code",
   "execution_count": 1,
   "metadata": {},
   "outputs": [],
   "source": [
    "import numpy as np\n",
    "import pandas as pd\n",
    "import matplotlib.pyplot as plt"
   ]
  },
  {
   "cell_type": "code",
   "execution_count": 2,
   "metadata": {},
   "outputs": [],
   "source": [
    "%matplotlib qt"
   ]
  },
  {
   "cell_type": "markdown",
   "metadata": {},
   "source": [
    "### Import neuron data"
   ]
  },
  {
   "cell_type": "code",
   "execution_count": 3,
   "metadata": {},
   "outputs": [],
   "source": [
    "# Read neuron spike data\n",
    "data = pd.read_csv(\"data/events0.csv\", header=None)\n",
    "data = [data.iloc[i].values for i in range(len(data))]  # convert to list of numpy arrays"
   ]
  },
  {
   "cell_type": "code",
   "execution_count": 4,
   "metadata": {},
   "outputs": [],
   "source": [
    "# Obtain useful constants\n",
    "M = len(data)  # number of neurons\n",
    "\n",
    "t = data  # pour faciliter les notations apres\n",
    "for i in range(M):\n",
    "    t[i] = t[i][np.nonzero(t[i])]  # get rid of arrival times = 0\n",
    "\n",
    "k = [len(ti) for ti in t]  # number of arrivals of each neuron\n",
    "T = max(max(t[i]) for i in range(M))  # TODO: Do i need T to be the last arrival, or > last arrival ?"
   ]
  },
  {
   "cell_type": "code",
   "execution_count": 22,
   "metadata": {},
   "outputs": [
    {
     "data": {
      "text/plain": [
       "Text(0, 0.5, 'Neurons')"
      ]
     },
     "execution_count": 22,
     "metadata": {},
     "output_type": "execute_result"
    }
   ],
   "source": [
    "# Plot spike train for all neurons\n",
    "plotspike, ax = plt.subplots(1, 1, figsize= (10,8))\n",
    "for i in range(M):\n",
    "    ax.plot(t[i], np.zeros(len(t[i]))+i, linestyle='', marker='+')\n",
    "ax.set_xlabel('Spike trains')\n",
    "ax.set_ylabel('Neurons')"
   ]
  },
  {
   "cell_type": "markdown",
   "metadata": {},
   "source": [
    "### Test things out with a univariate HP"
   ]
  },
  {
   "cell_type": "code",
   "execution_count": 88,
   "metadata": {},
   "outputs": [],
   "source": [
    "# Single neuron spikes\n",
    "tt = data[2]\n",
    "tt = tt[np.nonzero(tt)]\n",
    "k = len(tt)  # total number of arrivals"
   ]
  },
  {
   "cell_type": "code",
   "execution_count": 89,
   "metadata": {},
   "outputs": [
    {
     "name": "stdout",
     "output_type": "stream",
     "text": [
      "k = 244\n"
     ]
    }
   ],
   "source": [
    "fig, ax = plt.subplots(1, 1, figsize=(10,4))\n",
    "ax.plot(tt, np.zeros(len(tt)), linestyle='', marker='+')\n",
    "print('k =',k)"
   ]
  },
  {
   "cell_type": "code",
   "execution_count": 98,
   "metadata": {},
   "outputs": [],
   "source": [
    "# Setup the HP\n",
    "beta = 1\n",
    "betainv = 1/beta\n",
    "def g(t, beta=beta):\n",
    "    return t * np.exp(-beta*t) * (t >= 0)"
   ]
  },
  {
   "cell_type": "code",
   "execution_count": 120,
   "metadata": {},
   "outputs": [],
   "source": [
    "# Fill out the discrete likelihood matrix\n",
    "A = np.zeros((k+1, 2))\n",
    "\n",
    "# Specify first column\n",
    "A[:, 0] = 1\n",
    "A[-1, 0] = -tt[-1]\n",
    "\n",
    "# Specify second column\n",
    "for i in range(k):\n",
    "    A[i, 1] = sum(g(tt[i] - tl) for tl in tt if tl < tt[i])\n",
    "A[-1, 1] = betainv * sum((tt[-1] - ti + betainv)*np.exp(-beta*(tt[-1] - ti)) - betainv for ti in tt)"
   ]
  },
  {
   "cell_type": "code",
   "execution_count": 121,
   "metadata": {},
   "outputs": [],
   "source": [
    "# Plot matrix A\n",
    "fig, ax = plt.subplots(1, 1, figsize=(5,8))\n",
    "im = ax.imshow(A[50:100, :], cmap='viridis', interpolation='nearest')\n",
    "fig.colorbar(im, ax=ax)  # Add a colorbar to show the scale\n",
    "ax.set_title('Matrix Coefficients')\n",
    "plt.show()"
   ]
  },
  {
   "cell_type": "markdown",
   "metadata": {},
   "source": [
    "### Testing things out with a multivariate HP"
   ]
  },
  {
   "cell_type": "code",
   "execution_count": 6,
   "metadata": {},
   "outputs": [],
   "source": [
    "# Setup the HP\n",
    "beta = 1\n",
    "betainv = 1/beta\n",
    "def g(t, beta=beta):\n",
    "    return t * np.exp(-beta*t) * (t >= 0)"
   ]
  },
  {
   "cell_type": "code",
   "execution_count": 19,
   "metadata": {},
   "outputs": [],
   "source": [
    "# Compute A^j for j=1,...,M\n",
    "A = [np.zeros((k[j]+1, M+1)) for j in range(M)]  # all matrices A\n",
    "\n",
    "B = np.zeros(M)  # to help compute the last row of A^j\n",
    "for n in range(M):\n",
    "    B[n] = betainv * sum((T - tnl + betainv)*np.exp(-beta*(T - tnl)) - betainv for tnl in t[n])\n",
    "\n",
    "\n",
    "# Fill out A^j for every j\n",
    "for j in range(M):\n",
    "    # First column computation\n",
    "    A[j][:, 0] = 1\n",
    "    A[j][-1, 0] = -T\n",
    "\n",
    "    # Fill out the rest of the matrix (-1 because last row is filled out separately)\n",
    "    for i in range(A[j].shape[0] - 1):\n",
    "        for n in range(M):\n",
    "            A[j][i, n+1] = sum(g(t[j][i] - tnl) for tnl in t[n] if tnl < t[j][i])\n",
    "\n",
    "    # Fill out last row\n",
    "    for n in range(M):\n",
    "        A[j][-1, n+1] = B[n]"
   ]
  },
  {
   "cell_type": "code",
   "execution_count": 56,
   "metadata": {},
   "outputs": [],
   "source": [
    "# Plot matrix A (without last row, to keep things to scale)\n",
    "j = 0\n",
    "\n",
    "fig, ax = plt.subplots(1, 1, figsize=(5,8))\n",
    "im = ax.imshow(A[j][0:-2, :], cmap='viridis', interpolation='nearest', extent=[1, M, 0, k[j]/5])\n",
    "fig.colorbar(im, ax=ax)  # Add a colorbar to show the scale\n",
    "ax.set_title('Matrix Coefficients')\n",
    "plt.show()"
   ]
  },
  {
   "cell_type": "code",
   "execution_count": null,
   "metadata": {},
   "outputs": [],
   "source": []
  }
 ],
 "metadata": {
  "kernelspec": {
   "display_name": "Python 3",
   "language": "python",
   "name": "python3"
  },
  "language_info": {
   "codemirror_mode": {
    "name": "ipython",
    "version": 3
   },
   "file_extension": ".py",
   "mimetype": "text/x-python",
   "name": "python",
   "nbconvert_exporter": "python",
   "pygments_lexer": "ipython3",
   "version": "3.10.7"
  }
 },
 "nbformat": 4,
 "nbformat_minor": 2
}

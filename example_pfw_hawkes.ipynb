{
 "cells": [
  {
   "cell_type": "code",
   "execution_count": null,
   "metadata": {},
   "outputs": [],
   "source": [
    "import datetime as dt\n",
    "import time\n",
    "import matplotlib.pyplot as plt\n",
    "import numpy as np\n",
    "\n",
    "import pyxu.operator as pxop\n",
    "import pyxu.opt.stop as pxos\n",
    "\n",
    "import pfw_hawkes as pyfwl\n",
    "from hawkes_likelihood import HawkesLikelihood"
   ]
  },
  {
   "cell_type": "code",
   "execution_count": null,
   "metadata": {},
   "outputs": [],
   "source": [
    "%load_ext autoreload\n",
    "%autoreload 2\n",
    "\n",
    "%matplotlib qt"
   ]
  },
  {
   "cell_type": "markdown",
   "metadata": {},
   "source": [
    "### Generation of the source (using a single realization)"
   ]
  },
  {
   "cell_type": "code",
   "execution_count": null,
   "metadata": {},
   "outputs": [],
   "source": [
    "#path = \"simulated_data/my_simulations/simu0.csv\"\n",
    "path = \"simulated_data/events3.csv\"\n",
    "beta = 5.0\n",
    "hpL = HawkesLikelihood(path=path, beta=beta)\n",
    "M = hpL.M"
   ]
  },
  {
   "cell_type": "code",
   "execution_count": null,
   "metadata": {},
   "outputs": [],
   "source": [
    "hpL.plot_realization()"
   ]
  },
  {
   "cell_type": "code",
   "execution_count": null,
   "metadata": {},
   "outputs": [],
   "source": [
    "start = time.time()\n",
    "lip = hpL.opA.estimate_lipschitz(method='svd')\n",
    "print(\"Computation time of the Lipschitz constant: {:.4f}\".format(time.time()-start))\n",
    "print(\"Lipschitz constant:\", lip)"
   ]
  },
  {
   "cell_type": "code",
   "execution_count": null,
   "metadata": {},
   "outputs": [],
   "source": [
    "print(\"Average number of arrivals per process:\", np.mean(hpL.k))"
   ]
  },
  {
   "cell_type": "markdown",
   "metadata": {},
   "source": [
    "### Generation of the source (using multiple realizations)"
   ]
  },
  {
   "cell_type": "code",
   "execution_count": null,
   "metadata": {},
   "outputs": [],
   "source": [
    "totalProcesses = 15\n",
    "beta = 5.0\n",
    "\n",
    "paths = [f\"simulated_data/events{i}.csv\" for i in range(totalProcesses)]\n",
    "allHPs = np.full(totalProcesses, None)\n",
    "\n",
    "for i in range(totalProcesses):\n",
    "    print(f\"Initializing process {i+1}...\")\n",
    "    allHPs[i] = HawkesLikelihood(path=paths[i], beta=beta)\n",
    "M = allHPs[0].M"
   ]
  },
  {
   "cell_type": "code",
   "execution_count": null,
   "metadata": {},
   "outputs": [],
   "source": [
    "# Define big forward operator A: R^{M + M^2} -> R^{K1 + ... + Kn + totalProcesses*M}\n",
    "bigA = pxop.vstack([allHPs[i].opA for i in range(totalProcesses)])\n",
    "\n",
    "# Define big E operator E1(x_1, ..., x_K1) + E2(x_{K1+1}, ..., x_{K1+K2}) + ...\n",
    "# E: R^{K1 + ... + Kn} -> R\n",
    "bigE = pxop.hstack([allHPs[i].E for i in range(totalProcesses)])\n",
    "\n",
    "# Define big -log(likelihood operator)\n",
    "bigNegLogL = bigE * bigA"
   ]
  },
  {
   "cell_type": "code",
   "execution_count": null,
   "metadata": {},
   "outputs": [],
   "source": [
    "start = time.time()\n",
    "lip = bigA.estimate_lipschitz(method='svd')\n",
    "print(\"Computation time of the Lipschitz constant: {:.4f}\".format(time.time()-start))\n",
    "print(\"Lipschitz constant:\", lip)"
   ]
  },
  {
   "cell_type": "markdown",
   "metadata": {},
   "source": [
    "### Defining solvers"
   ]
  },
  {
   "cell_type": "code",
   "execution_count": null,
   "metadata": {},
   "outputs": [],
   "source": [
    "## Parameters of the solvers\n",
    "# Base\n",
    "remove = True  # originally True\n",
    "min_iterations = 1\n",
    "# Stop\n",
    "eps = 9e-4  # relative error for objective function\n",
    "tmax = 300.0  # seconds\n",
    "eps_dcv = 1e-2\n",
    "# PFW\n",
    "ms_threshold = 0.8  # original value 0.8, the lower the more atoms will HP select\n",
    "init_correction = 1e-1\n",
    "final_correction = 1e-6\n",
    "correction_steps = 5\n",
    "\n",
    "# Parameter for reconstruction\n",
    "lambda_ = 18e1"
   ]
  },
  {
   "cell_type": "code",
   "execution_count": null,
   "metadata": {},
   "outputs": [],
   "source": [
    "pfw = pyfwl.PFWLasso(\n",
    "    forwardOp=hpL.opA,\n",
    "    convexOp=hpL.E,\n",
    "    lambda_=lambda_,\n",
    "    M=hpL.M,\n",
    "    negLogL=hpL.negLogL,\n",
    "    ms_threshold=ms_threshold,\n",
    "    init_correction_prec=init_correction,\n",
    "    final_correction_prec=final_correction,\n",
    "    remove_positions=remove,\n",
    "    min_correction_steps=correction_steps,\n",
    "    show_progress=True,\n",
    ")\n",
    "# pfw = pyfwl.PFWLasso(\n",
    "#     forwardOp=bigA,\n",
    "#     convexOp=bigE,\n",
    "#     lambda_=lambda_,\n",
    "#     M=M,\n",
    "#     negLogL=bigNegLogL,\n",
    "#     ms_threshold=ms_threshold,\n",
    "#     init_correction_prec=init_correction,\n",
    "#     final_correction_prec=final_correction,\n",
    "#     remove_positions=remove,\n",
    "#     min_correction_steps=correction_steps,\n",
    "#     show_progress=True,\n",
    "# )"
   ]
  },
  {
   "cell_type": "code",
   "execution_count": null,
   "metadata": {},
   "outputs": [],
   "source": [
    "stop_crit = pxos.RelError(\n",
    "    eps=eps,\n",
    "    var=\"objective_func\",\n",
    "    f=None,\n",
    "    norm=2,\n",
    "    satisfy_all=True,\n",
    ")\n",
    "# alternative stopping criteria\n",
    "dcv = pyfwl.dcvStoppingCrit(eps_dcv)\n",
    "\n",
    "# Minimum number of iterations\n",
    "min_iter = pxos.MaxIter(n=min_iterations)\n",
    "\n",
    "# Maximum duration\n",
    "max_duration = pxos.MaxDuration(t=dt.timedelta(seconds=tmax))\n",
    "\n",
    "stop = (min_iter & stop_crit) | max_duration\n",
    "\n",
    "# track DCV\n",
    "track_dcv = pxos.AbsError(eps=1e-10, var=\"dcv\", f=None, norm=2, satisfy_all=True)"
   ]
  },
  {
   "cell_type": "markdown",
   "metadata": {},
   "source": [
    "### Solving"
   ]
  },
  {
   "cell_type": "code",
   "execution_count": null,
   "metadata": {},
   "outputs": [],
   "source": [
    "print(\"Polyatomic FW: Solving ...\")\n",
    "start = time.time()\n",
    "pfw.fit(stop_crit= stop | track_dcv, diff_lipschitz=lip**2)\n",
    "data_p, hist_p = pfw.stats()\n",
    "time_p = time.time() - start\n",
    "print(\"\\tSolved in {:.3f} seconds\".format(time_p))\n"
   ]
  },
  {
   "cell_type": "markdown",
   "metadata": {},
   "source": [
    "### Evaluation of the solve"
   ]
  },
  {
   "cell_type": "code",
   "execution_count": null,
   "metadata": {},
   "outputs": [],
   "source": [
    "print(\"Final value of dual certificate:\\n\\tPFW: {:.4f}\".format(data_p[\"dcv\"]))\n",
    "print(\"Final value of objective function:\\n\\tPFW : {:.2f}\".format(hist_p[-1][-1]))"
   ]
  },
  {
   "cell_type": "code",
   "execution_count": null,
   "metadata": {},
   "outputs": [],
   "source": [
    "# Evaluate sparsity\n",
    "def supp(arr):\n",
    "    return np.where(np.abs(arr) > 1e-3)[0]\n",
    "print(\"Percentage of nonzero coefficients:\", len(supp(data_p[\"x\"]))/len(data_p[\"x\"]) * 100)\n",
    "\n",
    "# Arrange intensities in a M x M matrix\n",
    "intensities = np.zeros((M, M))\n",
    "mus = np.zeros((M,1))\n",
    "for i in range(M):\n",
    "    intensities[i, :] = data_p[\"x\"][(i*(M + 1) + 1):(i*(M + 1) + M + 1)]\n",
    "    mus[i] = data_p[\"x\"][i*(M+1)]\n",
    "\n",
    "# for i in range(M):\n",
    "#     print(f\"Process {i}:\", data_p[\"x\"][(i*(M + 1)):(i*(M + 1) + M + 1)])"
   ]
  },
  {
   "cell_type": "code",
   "execution_count": null,
   "metadata": {},
   "outputs": [],
   "source": [
    "# Visualize solution\n",
    "fig, ax = plt.subplots(1, 2, figsize=(8,5))\n",
    "\n",
    "# Plot alpha's\n",
    "im = ax[1].imshow(intensities/(beta*beta), # la norme L1 est alpha/beta^2\n",
    "                cmap='viridis', \n",
    "                interpolation='nearest', \n",
    "                extent=[1, M, M, 1])\n",
    "fig.colorbar(im, ax=ax[1])  # Add a colorbar to show the scale\n",
    "ax[1].set_title('$||h_{ij}||_1$ for $i,j=1,...,M$')\n",
    "\n",
    "# Plot mu's\n",
    "im = ax[0].imshow(mus,\n",
    "                  cmap='viridis',\n",
    "                  interpolation='nearest',\n",
    "                  extent=[1, 2, M, 1])\n",
    "fig.colorbar(im, ax=ax[0])  # Add a colorbar to show the scale\n",
    "ax[0].set_title('$\\mu_i$ for $i=1,...,M$')\n",
    "\n",
    "plt.show()\n",
    "\n",
    "# for i in range(M):\n",
    "#     print(f\"mu{i+1}:\", mus[i])\n",
    "\n",
    "# print(intensities/(beta*beta))"
   ]
  },
  {
   "cell_type": "code",
   "execution_count": null,
   "metadata": {},
   "outputs": [],
   "source": [
    "# Plot objective function value\n",
    "mini = hist_p[\"Memorize[objective_func]\"][-1]\n",
    "\n",
    "plt.figure(figsize=(10, 8))\n",
    "plt.suptitle(\"Objective function values\")\n",
    "plt.subplot(211)\n",
    "plt.title(\"Log-scale\")\n",
    "plt.yscale(\"log\")\n",
    "plt.plot(\n",
    "    hist_p[\"duration\"],\n",
    "    (hist_p[\"Memorize[objective_func]\"] - mini),\n",
    "    label=\"PFW\",\n",
    "    marker=\"+\",\n",
    ")\n",
    "\n",
    "plt.legend()\n",
    "plt.ylabel(\"OFV\")\n",
    "\n",
    "plt.subplot(212)\n",
    "plt.plot(\n",
    "    hist_p[\"duration\"],\n",
    "    (hist_p[\"Memorize[objective_func]\"] - mini),\n",
    "    label=\"PFW\",\n",
    "    marker=\"+\",\n",
    ")\n",
    "\n",
    "plt.legend()\n",
    "plt.ylabel(\"OFV\")\n",
    "plt.xlabel(\"Solving time [s]\")\n",
    "plt.title(\"Linear scale\")\n",
    "plt.show()"
   ]
  },
  {
   "cell_type": "code",
   "execution_count": null,
   "metadata": {},
   "outputs": [],
   "source": [
    "# Plot DCV values\n",
    "plt.figure(figsize=(10, 5))\n",
    "plt.title(\"Dual certificate values\")\n",
    "plt.plot(hist_p[\"duration\"], hist_p[\"AbsError[dcv]\"], label=\"PFW\", marker=\"+\")\n",
    "plt.xlabel(\"Solving time [s]\")\n",
    "plt.legend()\n",
    "plt.show()"
   ]
  },
  {
   "cell_type": "code",
   "execution_count": null,
   "metadata": {},
   "outputs": [],
   "source": []
  }
 ],
 "metadata": {
  "kernelspec": {
   "display_name": "Python 3",
   "language": "python",
   "name": "python3"
  },
  "language_info": {
   "codemirror_mode": {
    "name": "ipython",
    "version": 3
   },
   "file_extension": ".py",
   "mimetype": "text/x-python",
   "name": "python",
   "nbconvert_exporter": "python",
   "pygments_lexer": "ipython3",
   "version": "3.10.7"
  }
 },
 "nbformat": 4,
 "nbformat_minor": 2
}

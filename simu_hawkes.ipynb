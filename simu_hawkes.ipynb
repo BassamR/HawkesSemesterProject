{
 "cells": [
  {
   "cell_type": "code",
   "execution_count": 2,
   "metadata": {},
   "outputs": [],
   "source": [
    "import numpy as np\n",
    "import matplotlib.pyplot as plt\n",
    "\n",
    "from hawkes import UnivariateHP, MultivariateHP\n",
    "from plot_hawkes import *"
   ]
  },
  {
   "cell_type": "code",
   "execution_count": 3,
   "metadata": {},
   "outputs": [],
   "source": [
    "%load_ext autoreload\n",
    "%autoreload 2\n",
    "\n",
    "%matplotlib qt"
   ]
  },
  {
   "cell_type": "markdown",
   "metadata": {},
   "source": [
    "### Simulate a univariate HP"
   ]
  },
  {
   "cell_type": "code",
   "execution_count": 3,
   "metadata": {},
   "outputs": [],
   "source": [
    "# Declare HP constants\n",
    "mu = 0.1\n",
    "alpha = 0.5\n",
    "beta = 1\n",
    "\n",
    "# Warning if HP parameters will make HP explode\n",
    "if alpha >= beta**2:  # branching ratio = ||h||L1 = alpha/beta^2\n",
    "    print(\"Need alpha < beta^2 for the branching ratio to be < 1\")\n",
    "\n",
    "# Define 2nd order B-spline kernel\n",
    "def kernel(t, alpha=alpha, beta=beta):\n",
    "    return alpha * t * np.exp(-beta*t) * (t >= 0)\n",
    "\n",
    "# Define univariate HP\n",
    "hp = UnivariateHP(mu=mu, h=kernel)"
   ]
  },
  {
   "cell_type": "code",
   "execution_count": 4,
   "metadata": {},
   "outputs": [],
   "source": [
    "# Plot kernel\n",
    "timevect = np.linspace(0, 10, 100)\n",
    "plt.figure()\n",
    "plt.plot(timevect, kernel(timevect))\n",
    "plt.grid()"
   ]
  },
  {
   "cell_type": "code",
   "execution_count": 5,
   "metadata": {},
   "outputs": [],
   "source": [
    "# Simulate and plot HP\n",
    "T = 250  # simulation time\n",
    "P = hp.simulate_univariate_hp(T=T)"
   ]
  },
  {
   "cell_type": "code",
   "execution_count": 6,
   "metadata": {},
   "outputs": [],
   "source": [
    "fig, axes = plt.subplots(2, 2, figsize=(12, 8))\n",
    "\n",
    "plot_counting_process(P=P, M=1, axe=axes[0, 0])\n",
    "plot_intensity(P=P, T=T, mu=mu, h=kernel, axe=axes[0, 1])\n",
    "plot_histogram(P=P, T=T, axe=axes[1, 0])"
   ]
  },
  {
   "cell_type": "markdown",
   "metadata": {},
   "source": [
    "### Simulate a multivariate HP"
   ]
  },
  {
   "cell_type": "code",
   "execution_count": 4,
   "metadata": {},
   "outputs": [],
   "source": [
    "# Declare HP constants\n",
    "M = 2  # number of variables/neurons\n",
    "mu = np.array([0.1, 0.1])\n",
    "alpha = np.array([[0.3, 0.2], \n",
    "                  [0.2, 0.3]])\n",
    "beta = 1\n",
    "\n",
    "# Warning if HP parameters will make HP explode\n",
    "_, S, _ = np.linalg.svd(alpha)  # stability is determined by matrix H, H_ij = ||hij||_L1\n",
    "spectralRadius = np.max(S)\n",
    "if np.max(S) >= 1:\n",
    "    print(f\"Spectral radius of excitation matrix is {spectralRadius} > 1, HP is unstable.\")\n",
    "else:\n",
    "    print(f\"Spectral radius is {spectralRadius} < 1, HP is stable.\")\n",
    "\n",
    "# Define 2nd order B-spline kernels\n",
    "kernels = np.empty((M, M), dtype=object)\n",
    "\n",
    "for (i, j), alpha_ij in np.ndenumerate(alpha):\n",
    "    def hij(t, alpha=alpha_ij, beta=beta):\n",
    "        return alpha * t * np.exp(-beta*t) * (t >= 0)\n",
    "    kernels[i, j] = hij\n",
    "\n",
    "# Define multivariate HP\n",
    "multihp = MultivariateHP(M=M, mu=mu, h=kernels)"
   ]
  },
  {
   "cell_type": "code",
   "execution_count": 5,
   "metadata": {},
   "outputs": [],
   "source": [
    "# Plot kernels\n",
    "timevect = np.linspace(0, 10, 100)\n",
    "fig, axes = plt.subplots(M, M, figsize=(12, 8))\n",
    "\n",
    "for (i, j), hij in np.ndenumerate(kernels):\n",
    "    axes[i, j].plot(timevect, hij(timevect), label=f'h_{i}{j} with alpha={alpha[i,j]}')\n",
    "    axes[i, j].grid()\n",
    "    axes[i, j].legend()"
   ]
  },
  {
   "cell_type": "code",
   "execution_count": 6,
   "metadata": {},
   "outputs": [],
   "source": [
    "# Simulate and plot HP\n",
    "T = 250  # simulation time\n",
    "P = multihp.simulate_multivariate_hp(T=T)"
   ]
  },
  {
   "cell_type": "code",
   "execution_count": 7,
   "metadata": {},
   "outputs": [],
   "source": [
    "fig, axes = plt.subplots(2, 2, figsize=(12, 8))\n",
    "\n",
    "plot_counting_process(P, M=M, axe=axes[0, 0])\n",
    "plot_intensity_multivariate(P=P, i=0, T=T, mu=mu, h=kernels, axe=axes[0, 1])\n",
    "plot_intensity_multivariate(P=P, i=1, T=T, mu=mu, h=kernels, axe=axes[1, 1])\n"
   ]
  },
  {
   "cell_type": "code",
   "execution_count": null,
   "metadata": {},
   "outputs": [],
   "source": []
  }
 ],
 "metadata": {
  "kernelspec": {
   "display_name": "Python 3",
   "language": "python",
   "name": "python3"
  },
  "language_info": {
   "codemirror_mode": {
    "name": "ipython",
    "version": 3
   },
   "file_extension": ".py",
   "mimetype": "text/x-python",
   "name": "python",
   "nbconvert_exporter": "python",
   "pygments_lexer": "ipython3",
   "version": "3.10.7"
  }
 },
 "nbformat": 4,
 "nbformat_minor": 2
}

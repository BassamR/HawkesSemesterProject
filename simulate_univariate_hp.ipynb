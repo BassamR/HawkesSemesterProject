{
 "cells": [
  {
   "cell_type": "code",
   "execution_count": null,
   "metadata": {},
   "outputs": [],
   "source": [
    "import numpy as np\n",
    "import matplotlib.pyplot as plt"
   ]
  },
  {
   "cell_type": "code",
   "execution_count": 2,
   "metadata": {},
   "outputs": [],
   "source": [
    "%matplotlib qt"
   ]
  },
  {
   "cell_type": "code",
   "execution_count": 94,
   "metadata": {},
   "outputs": [],
   "source": [
    "# HP parameters\n",
    "def kernel(t, alpha=0.4, beta=3):\n",
    "    return alpha * t * np.exp(-beta*t)\n",
    "\n",
    "mu = 0.5"
   ]
  },
  {
   "cell_type": "code",
   "execution_count": 95,
   "metadata": {},
   "outputs": [],
   "source": [
    "timevect = np.linspace(0, 10, 100)\n",
    "plt.figure()\n",
    "plt.plot(timevect, kernel(timevect))\n",
    "plt.grid()"
   ]
  },
  {
   "cell_type": "code",
   "execution_count": 96,
   "metadata": {},
   "outputs": [],
   "source": [
    "def intensity(t, past_arrivals, mu, h):\n",
    "    \"\"\"\n",
    "    t: time at which to evaluate lambda*(t)\n",
    "    past_arrivals: array containing past arrival times\n",
    "    mu: background intensity\n",
    "    h: excitation function\n",
    "\n",
    "    computes lambda*(t) = mu + sum h(t-ti) for ti<t\n",
    "    \"\"\"\n",
    "    return mu + sum(h(t - arrival) for arrival in past_arrivals if arrival < t)"
   ]
  },
  {
   "cell_type": "markdown",
   "metadata": {},
   "source": [
    "### Generate a univariate HP by thinning"
   ]
  },
  {
   "cell_type": "code",
   "execution_count": null,
   "metadata": {},
   "outputs": [],
   "source": [
    "# Thinning algorithm to generate arrivals\n",
    "eps = 10e-10\n",
    "P = np.array([])  # array of arrivals\n",
    "T = 40  # generate process on [0, T]\n",
    "t = 0\n",
    "\n",
    "while t < T:\n",
    "    M = intensity(t=t+eps, past_arrivals=P, mu=mu, h=kernel)\n",
    "    E = np.random.exponential(1/M)\n",
    "    t = t + E\n",
    "    U = np.random.uniform(low=0, high=M)\n",
    "\n",
    "    if t < T and U <= intensity(t=t, past_arrivals=P, mu=mu, h=kernel):\n",
    "        P = np.hstack([P, t])"
   ]
  },
  {
   "cell_type": "code",
   "execution_count": 98,
   "metadata": {},
   "outputs": [
    {
     "data": {
      "text/plain": [
       "<matplotlib.collections.PathCollection at 0x1e7c61be680>"
      ]
     },
     "execution_count": 98,
     "metadata": {},
     "output_type": "execute_result"
    }
   ],
   "source": [
    "# Plot counting process\n",
    "def counting_process(arrival_times):\n",
    "    return [i + 1 for i in range(len(arrival_times))]\n",
    "\n",
    "plt.figure()\n",
    "plt.step(x=P, y=counting_process(P), where='post')\n",
    "plt.grid()\n",
    "plt.xlabel('Time')\n",
    "plt.ylabel('Count')\n",
    "plt.scatter(P, [0] * len(P), marker='x', color='red', label='Time Values')"
   ]
  },
  {
   "cell_type": "code",
   "execution_count": 71,
   "metadata": {},
   "outputs": [],
   "source": [
    "# Plot intensity function\n"
   ]
  },
  {
   "cell_type": "code",
   "execution_count": 99,
   "metadata": {},
   "outputs": [],
   "source": [
    "# Plot histogram of arrivals"
   ]
  },
  {
   "cell_type": "code",
   "execution_count": null,
   "metadata": {},
   "outputs": [],
   "source": []
  }
 ],
 "metadata": {
  "kernelspec": {
   "display_name": "Python 3",
   "language": "python",
   "name": "python3"
  },
  "language_info": {
   "codemirror_mode": {
    "name": "ipython",
    "version": 3
   },
   "file_extension": ".py",
   "mimetype": "text/x-python",
   "name": "python",
   "nbconvert_exporter": "python",
   "pygments_lexer": "ipython3",
   "version": "3.10.7"
  }
 },
 "nbformat": 4,
 "nbformat_minor": 2
}

{
 "cells": [
  {
   "cell_type": "code",
   "execution_count": 68,
   "metadata": {},
   "outputs": [],
   "source": [
    "import numpy as np\n",
    "import matplotlib.pyplot as plt"
   ]
  },
  {
   "cell_type": "code",
   "execution_count": 69,
   "metadata": {},
   "outputs": [],
   "source": [
    "%matplotlib qt"
   ]
  },
  {
   "cell_type": "code",
   "execution_count": 108,
   "metadata": {},
   "outputs": [],
   "source": [
    "# Check if HP parameters will make HP explode\n",
    "alpha = 2\n",
    "beta = 2\n",
    "if alpha >= beta**2:  # branching ratio = ||h||L1 = alpha/beta^2\n",
    "    print(\"Need alpha < beta^2 for the branching ratio to be < 1\")\n",
    "\n",
    "# If not, define 2nd order B-spline kernel\n",
    "def kernel(t, alpha=alpha, beta=beta):\n",
    "    return alpha * t * np.exp(-beta*t)\n",
    "\n",
    "mu = 0.3"
   ]
  },
  {
   "cell_type": "code",
   "execution_count": 110,
   "metadata": {},
   "outputs": [],
   "source": [
    "# Plot kernel\n",
    "timevect = np.linspace(0, 10, 100)\n",
    "plt.figure()\n",
    "plt.plot(timevect, kernel(timevect))\n",
    "plt.grid()"
   ]
  },
  {
   "cell_type": "code",
   "execution_count": 111,
   "metadata": {},
   "outputs": [],
   "source": [
    "def intensity(t, past_arrivals, mu, h):\n",
    "    \"\"\"\n",
    "    t: time at which to evaluate lambda*(t)\n",
    "    past_arrivals: array containing past arrival times\n",
    "    mu: background intensity\n",
    "    h: excitation function\n",
    "\n",
    "    computes lambda*(t) = mu + sum h(t-ti) for ti<t\n",
    "    \"\"\"\n",
    "    return mu + sum(h(t - arrival) for arrival in past_arrivals if arrival < t)"
   ]
  },
  {
   "cell_type": "markdown",
   "metadata": {},
   "source": [
    "### Generate a univariate HP by thinning"
   ]
  },
  {
   "cell_type": "code",
   "execution_count": 112,
   "metadata": {},
   "outputs": [],
   "source": [
    "# Thinning algorithm to generate arrivals\n",
    "eps = 10e-10\n",
    "P = np.array([])  # array of arrivals\n",
    "T = 100  # generate process on [0, T]\n",
    "t = 0\n",
    "\n",
    "while t < T:\n",
    "    M = intensity(t=t+eps, past_arrivals=P, mu=mu, h=kernel)\n",
    "    E = np.random.exponential(1/M)\n",
    "    t = t + E\n",
    "    U = np.random.uniform(low=0, high=M)\n",
    "    if t < T and U <= intensity(t=t, past_arrivals=P, mu=mu, h=kernel):\n",
    "        P = np.hstack([P, t])"
   ]
  },
  {
   "cell_type": "markdown",
   "metadata": {},
   "source": [
    "### Plot counting process and conditional intensity"
   ]
  },
  {
   "cell_type": "code",
   "execution_count": 116,
   "metadata": {},
   "outputs": [],
   "source": [
    "# Plot counting process\n",
    "def plot_counting_process(P):\n",
    "    \"\"\"\n",
    "    P: arrival times\n",
    "    \"\"\"\n",
    "    def counting_process(arrival_times):\n",
    "        return [i + 1 for i in range(len(arrival_times))]\n",
    "\n",
    "    plt.figure()\n",
    "    plt.step(x=P, y=counting_process(P), where='post', label='N(t)')\n",
    "    plt.grid()\n",
    "    plt.xlabel('Time')\n",
    "    plt.ylabel('Count')\n",
    "    plt.scatter(P, [0] * len(P), marker='x', color='red', label='Time Values')\n",
    "    plt.legend(loc='upper left')\n",
    "\n",
    "# Plot intensity function\n",
    "def plot_intensity(P, T, mu, h):\n",
    "    \"\"\"\n",
    "    P: array of arrivals\n",
    "    T: arrivals contained in the interval [0, T]\n",
    "    h: excitation function\n",
    "    \"\"\"\n",
    "    # Function to calculate the sum of f(t - ti)\n",
    "    def sum_excitations(t, t_values, f):\n",
    "        return sum(f(t - ti) for ti in t_values if ti < t)\n",
    "\n",
    "    time_vector = np.linspace(0, T, 500)\n",
    "    intensity = mu + np.array([sum_excitations(t, P, h) for t in time_vector])\n",
    "\n",
    "    plt.figure()\n",
    "    plt.plot(time_vector, intensity, label='$\\lambda^*(t)$')\n",
    "    plt.grid()\n",
    "    plt.xlabel('Time')\n",
    "    plt.ylabel('Intensity')\n",
    "    plt.scatter(P, [0] * len(P), marker='x', color='red', label='Time Values')\n",
    "    plt.legend()"
   ]
  },
  {
   "cell_type": "code",
   "execution_count": 118,
   "metadata": {},
   "outputs": [],
   "source": [
    "# Produce plots of counting process and conditional intensity function\n",
    "plot_counting_process(P)\n",
    "plot_intensity(P, T, mu=mu, h=kernel)"
   ]
  },
  {
   "cell_type": "code",
   "execution_count": 99,
   "metadata": {},
   "outputs": [],
   "source": [
    "# Plot histogram of arrivals"
   ]
  },
  {
   "cell_type": "code",
   "execution_count": null,
   "metadata": {},
   "outputs": [],
   "source": []
  }
 ],
 "metadata": {
  "kernelspec": {
   "display_name": "Python 3",
   "language": "python",
   "name": "python3"
  },
  "language_info": {
   "codemirror_mode": {
    "name": "ipython",
    "version": 3
   },
   "file_extension": ".py",
   "mimetype": "text/x-python",
   "name": "python",
   "nbconvert_exporter": "python",
   "pygments_lexer": "ipython3",
   "version": "3.10.7"
  }
 },
 "nbformat": 4,
 "nbformat_minor": 2
}

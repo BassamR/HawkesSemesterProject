{
 "cells": [
  {
   "cell_type": "code",
   "execution_count": 1,
   "metadata": {},
   "outputs": [
    {
     "name": "stdout",
     "output_type": "stream",
     "text": [
      "Seed: 1\n"
     ]
    }
   ],
   "source": [
    "import datetime as dt\n",
    "import time\n",
    "#import matplotlib\n",
    "import matplotlib.pyplot as plt\n",
    "import numpy as np\n",
    "#import scipy as sp\n",
    "\n",
    "import pyxu.abc as pxa\n",
    "import pyxu.operator as pxop\n",
    "import pyxu.opt.stop as pxos\n",
    "#from pyxu.opt.solver.pgd import PGD\n",
    "\n",
    "import pfw_hawkes as pyfwl\n",
    "from hawkes_likelihood import HawkesLikelihood\n",
    "import utils as ut\n",
    "\n",
    "seed = 1  # None  # for reproducibility\n",
    "if seed is None:\n",
    "    seed = np.random.randint(0, 1000)\n",
    "print(f\"Seed: {seed}\")"
   ]
  },
  {
   "cell_type": "code",
   "execution_count": 2,
   "metadata": {},
   "outputs": [],
   "source": [
    "%load_ext autoreload\n",
    "%autoreload 2\n",
    "\n",
    "%matplotlib qt"
   ]
  },
  {
   "cell_type": "markdown",
   "metadata": {},
   "source": [
    "### Playing around with stuff"
   ]
  },
  {
   "cell_type": "code",
   "execution_count": 3,
   "metadata": {},
   "outputs": [
    {
     "name": "stdout",
     "output_type": "stream",
     "text": [
      "[1, 2, 3, 5, 6, 7, 9, 10, 11]\n",
      "[array([9, 9, 9]), array([9, 9, 9]), array([9, 9, 9])]\n",
      "[9 9 9 9 9 9 9 9 9]\n"
     ]
    }
   ],
   "source": [
    "testarr = np.array([1, 9, 9, 9, 2, 9, 9, 9, 3, 9, 9, 9]) #M=3 => M*(M+1) = 12\n",
    "#[kM + k, kM+k + M] pour la k'eme tranche\n",
    "indices = [index for k in range(3) for index in range(k*3 + k + 1, k*3 + k + 3 + 1)]\n",
    "print(indices)\n",
    "\n",
    "print([testarr[(k*3 + k + 1):(k*3 + k + 3 + 1)] for k in range(0, 3)])\n",
    "print(testarr[indices])"
   ]
  },
  {
   "cell_type": "code",
   "execution_count": 4,
   "metadata": {},
   "outputs": [],
   "source": [
    "# ne pas oublier que le vecteur de parametres theta est dans R^{M^2 + M}\n",
    "testL1norm = ut.L1NormPartialReg(shape=(1,3*(3+1)), S=indices, regLambda=1)"
   ]
  },
  {
   "cell_type": "code",
   "execution_count": 5,
   "metadata": {},
   "outputs": [
    {
     "name": "stdout",
     "output_type": "stream",
     "text": [
      "81.0\n",
      "[1. 8. 8. 8. 2. 8. 8. 8. 3. 8. 8. 8.]\n"
     ]
    }
   ],
   "source": [
    "print(testL1norm(testarr))\n",
    "print(testL1norm.prox(testarr, tau=1))"
   ]
  },
  {
   "cell_type": "code",
   "execution_count": 6,
   "metadata": {},
   "outputs": [
    {
     "name": "stdout",
     "output_type": "stream",
     "text": [
      "injection: [1. 0. 0. 0. 1. 0. 0. 0. 0. 0.]\n"
     ]
    }
   ],
   "source": [
    "supportIndices = [0, 4]\n",
    "injection = pxop.SubSample(10, supportIndices).T\n",
    "\n",
    "x = np.ones(len(supportIndices))\n",
    "\n",
    "print('injection:', injection(x))"
   ]
  },
  {
   "cell_type": "code",
   "execution_count": 7,
   "metadata": {},
   "outputs": [
    {
     "name": "stdout",
     "output_type": "stream",
     "text": [
      "[0 4 8]\n",
      "[1 2 3]\n"
     ]
    }
   ],
   "source": [
    "testarr = np.array([1, 9, 9, 9, 2, 9, 9, 9, 3, 9, 9, 9]) #M=3 => M*(M+1) = 12\n",
    "indices = np.array([k + k*3 for k in range(3)], dtype=\"int32\")\n",
    "print(indices)\n",
    "print(testarr[indices])"
   ]
  },
  {
   "cell_type": "code",
   "execution_count": 54,
   "metadata": {},
   "outputs": [
    {
     "name": "stdout",
     "output_type": "stream",
     "text": [
      "[5.46410162]\n",
      "[5.46410162]\n"
     ]
    }
   ],
   "source": [
    "dim1 = 2\n",
    "dim2 = 3\n",
    "\n",
    "l1normdim1 = pxop.L1Norm(dim=dim1)\n",
    "l2normdim2 = pxop.L2Norm(dim=dim2)\n",
    "\n",
    "x1 = np.ones(dim1)\n",
    "x2 = 2*np.ones(dim2)\n",
    "bigx = np.hstack([x1, x2])\n",
    "\n",
    "#sumOp = pxop.Sum(arg_shape=)\n",
    "normOp = pxop.hstack([l1normdim1, l2normdim2])\n",
    "print(normOp(bigx))\n",
    "print(l1normdim1(x1) + l2normdim2(x2))"
   ]
  },
  {
   "cell_type": "code",
   "execution_count": null,
   "metadata": {},
   "outputs": [],
   "source": [
    "toyM = 4\n",
    "ez = np.array([k + k*toyM for k in range(toyM)], dtype=\"int32\")\n",
    "print(ez)\n",
    "\n",
    "ez2 = [index for k in range(toyM) for index in range(k*toyM + k + 1, k*toyM + k + toyM + 1)]\n",
    "print(ez2)"
   ]
  },
  {
   "cell_type": "markdown",
   "metadata": {},
   "source": [
    "### Generation of the source (using a single realization)"
   ]
  },
  {
   "cell_type": "code",
   "execution_count": 26,
   "metadata": {},
   "outputs": [
    {
     "name": "stdout",
     "output_type": "stream",
     "text": [
      "Computing A^1 out of 6, k1=410\n",
      "Computing A^2 out of 6, k2=439\n",
      "Computing A^3 out of 6, k3=408\n",
      "Computing A^4 out of 6, k4=420\n",
      "Computing A^5 out of 6, k5=442\n",
      "Computing A^6 out of 6, k6=455\n"
     ]
    }
   ],
   "source": [
    "path = \"simulated_data/my_simulations/simu0.csv\"\n",
    "#path = \"simulated_data/events0.csv\"\n",
    "beta = 5.0\n",
    "hpL = HawkesLikelihood(path=path, beta=beta)"
   ]
  },
  {
   "cell_type": "code",
   "execution_count": 22,
   "metadata": {},
   "outputs": [],
   "source": [
    "hpL.plot_realization()"
   ]
  },
  {
   "cell_type": "code",
   "execution_count": 27,
   "metadata": {},
   "outputs": [
    {
     "name": "stdout",
     "output_type": "stream",
     "text": [
      "Computation time of the Lipschitz constant: 0.0130\n",
      "Lipschitz constant: 120.50002646738884\n"
     ]
    }
   ],
   "source": [
    "start = time.time()\n",
    "lip = hpL.opA.estimate_lipschitz(method='svd')\n",
    "print(\"Computation time of the Lipschitz constant: {:.4f}\".format(time.time()-start))\n",
    "print(\"Lipschitz constant:\", lip)\n",
    "#np.linalg.svd to compute the largest singular value which is = to the lipschitz constant for linear operators"
   ]
  },
  {
   "cell_type": "markdown",
   "metadata": {},
   "source": [
    "### Generation of the source (using multiple realizations)"
   ]
  },
  {
   "cell_type": "code",
   "execution_count": 3,
   "metadata": {},
   "outputs": [
    {
     "name": "stdout",
     "output_type": "stream",
     "text": [
      "Initializing process 1...\n",
      "Computing A^1 out of 8, k1=100\n",
      "Computing A^2 out of 8, k2=165\n",
      "Computing A^3 out of 8, k3=244\n",
      "Computing A^4 out of 8, k4=116\n",
      "Computing A^5 out of 8, k5=255\n",
      "Computing A^6 out of 8, k6=342\n",
      "Computing A^7 out of 8, k7=226\n",
      "Computing A^8 out of 8, k8=353\n",
      "Initializing process 2...\n",
      "Computing A^1 out of 8, k1=224\n",
      "Computing A^2 out of 8, k2=137\n",
      "Computing A^3 out of 8, k3=296\n",
      "Computing A^4 out of 8, k4=169\n",
      "Computing A^5 out of 8, k5=403\n",
      "Computing A^6 out of 8, k6=370\n",
      "Computing A^7 out of 8, k7=150\n",
      "Computing A^8 out of 8, k8=620\n",
      "Initializing process 3...\n",
      "Computing A^1 out of 8, k1=176\n",
      "Computing A^2 out of 8, k2=154\n",
      "Computing A^3 out of 8, k3=277\n",
      "Computing A^4 out of 8, k4=165\n",
      "Computing A^5 out of 8, k5=390\n",
      "Computing A^6 out of 8, k6=343\n",
      "Computing A^7 out of 8, k7=171\n",
      "Computing A^8 out of 8, k8=580\n",
      "Initializing process 4...\n",
      "Computing A^1 out of 8, k1=116\n",
      "Computing A^2 out of 8, k2=145\n",
      "Computing A^3 out of 8, k3=258\n",
      "Computing A^4 out of 8, k4=165\n",
      "Computing A^5 out of 8, k5=359\n",
      "Computing A^6 out of 8, k6=262\n",
      "Computing A^7 out of 8, k7=123\n",
      "Computing A^8 out of 8, k8=365\n",
      "Initializing process 5...\n",
      "Computing A^1 out of 8, k1=180\n",
      "Computing A^2 out of 8, k2=152\n",
      "Computing A^3 out of 8, k3=384\n",
      "Computing A^4 out of 8, k4=116\n",
      "Computing A^5 out of 8, k5=398\n",
      "Computing A^6 out of 8, k6=271\n",
      "Computing A^7 out of 8, k7=115\n",
      "Computing A^8 out of 8, k8=388\n",
      "Initializing process 6...\n",
      "Computing A^1 out of 8, k1=224\n",
      "Computing A^2 out of 8, k2=174\n",
      "Computing A^3 out of 8, k3=380\n",
      "Computing A^4 out of 8, k4=126\n",
      "Computing A^5 out of 8, k5=395\n",
      "Computing A^6 out of 8, k6=354\n",
      "Computing A^7 out of 8, k7=215\n",
      "Computing A^8 out of 8, k8=636\n",
      "Initializing process 7...\n",
      "Computing A^1 out of 8, k1=139\n",
      "Computing A^2 out of 8, k2=131\n",
      "Computing A^3 out of 8, k3=258\n",
      "Computing A^4 out of 8, k4=194\n",
      "Computing A^5 out of 8, k5=318\n",
      "Computing A^6 out of 8, k6=330\n",
      "Computing A^7 out of 8, k7=198\n",
      "Computing A^8 out of 8, k8=423\n",
      "Initializing process 8...\n",
      "Computing A^1 out of 8, k1=133\n",
      "Computing A^2 out of 8, k2=132\n",
      "Computing A^3 out of 8, k3=349\n",
      "Computing A^4 out of 8, k4=189\n",
      "Computing A^5 out of 8, k5=198\n",
      "Computing A^6 out of 8, k6=353\n",
      "Computing A^7 out of 8, k7=107\n",
      "Computing A^8 out of 8, k8=509\n",
      "Initializing process 9...\n",
      "Computing A^1 out of 8, k1=173\n",
      "Computing A^2 out of 8, k2=181\n",
      "Computing A^3 out of 8, k3=368\n",
      "Computing A^4 out of 8, k4=159\n",
      "Computing A^5 out of 8, k5=375\n",
      "Computing A^6 out of 8, k6=273\n",
      "Computing A^7 out of 8, k7=193\n",
      "Computing A^8 out of 8, k8=452\n",
      "Initializing process 10...\n",
      "Computing A^1 out of 8, k1=168\n",
      "Computing A^2 out of 8, k2=104\n",
      "Computing A^3 out of 8, k3=289\n",
      "Computing A^4 out of 8, k4=213\n",
      "Computing A^5 out of 8, k5=313\n",
      "Computing A^6 out of 8, k6=357\n",
      "Computing A^7 out of 8, k7=118\n",
      "Computing A^8 out of 8, k8=567\n",
      "Initializing process 11...\n",
      "Computing A^1 out of 8, k1=198\n",
      "Computing A^2 out of 8, k2=125\n",
      "Computing A^3 out of 8, k3=289\n",
      "Computing A^4 out of 8, k4=128\n",
      "Computing A^5 out of 8, k5=351\n",
      "Computing A^6 out of 8, k6=314\n",
      "Computing A^7 out of 8, k7=162\n",
      "Computing A^8 out of 8, k8=433\n",
      "Initializing process 12...\n",
      "Computing A^1 out of 8, k1=201\n",
      "Computing A^2 out of 8, k2=141\n",
      "Computing A^3 out of 8, k3=318\n",
      "Computing A^4 out of 8, k4=223\n",
      "Computing A^5 out of 8, k5=375\n",
      "Computing A^6 out of 8, k6=372\n",
      "Computing A^7 out of 8, k7=164\n",
      "Computing A^8 out of 8, k8=650\n",
      "Initializing process 13...\n",
      "Computing A^1 out of 8, k1=171\n",
      "Computing A^2 out of 8, k2=191\n",
      "Computing A^3 out of 8, k3=287\n",
      "Computing A^4 out of 8, k4=137\n",
      "Computing A^5 out of 8, k5=448\n",
      "Computing A^6 out of 8, k6=260\n",
      "Computing A^7 out of 8, k7=170\n",
      "Computing A^8 out of 8, k8=476\n",
      "Initializing process 14...\n",
      "Computing A^1 out of 8, k1=224\n",
      "Computing A^2 out of 8, k2=156\n",
      "Computing A^3 out of 8, k3=326\n",
      "Computing A^4 out of 8, k4=113\n",
      "Computing A^5 out of 8, k5=309\n",
      "Computing A^6 out of 8, k6=289\n",
      "Computing A^7 out of 8, k7=111\n",
      "Computing A^8 out of 8, k8=520\n",
      "Initializing process 15...\n",
      "Computing A^1 out of 8, k1=196\n",
      "Computing A^2 out of 8, k2=116\n",
      "Computing A^3 out of 8, k3=268\n",
      "Computing A^4 out of 8, k4=221\n",
      "Computing A^5 out of 8, k5=433\n",
      "Computing A^6 out of 8, k6=684\n",
      "Computing A^7 out of 8, k7=137\n",
      "Computing A^8 out of 8, k8=677\n",
      "Initializing process 16...\n",
      "Computing A^1 out of 8, k1=158\n",
      "Computing A^2 out of 8, k2=135\n",
      "Computing A^3 out of 8, k3=335\n",
      "Computing A^4 out of 8, k4=125\n",
      "Computing A^5 out of 8, k5=342\n",
      "Computing A^6 out of 8, k6=232\n",
      "Computing A^7 out of 8, k7=133\n",
      "Computing A^8 out of 8, k8=387\n",
      "Initializing process 17...\n",
      "Computing A^1 out of 8, k1=213\n",
      "Computing A^2 out of 8, k2=134\n",
      "Computing A^3 out of 8, k3=186\n",
      "Computing A^4 out of 8, k4=151\n",
      "Computing A^5 out of 8, k5=363\n",
      "Computing A^6 out of 8, k6=385\n",
      "Computing A^7 out of 8, k7=90\n",
      "Computing A^8 out of 8, k8=649\n",
      "Initializing process 18...\n",
      "Computing A^1 out of 8, k1=289\n",
      "Computing A^2 out of 8, k2=169\n",
      "Computing A^3 out of 8, k3=352\n",
      "Computing A^4 out of 8, k4=183\n",
      "Computing A^5 out of 8, k5=382\n",
      "Computing A^6 out of 8, k6=295\n",
      "Computing A^7 out of 8, k7=186\n",
      "Computing A^8 out of 8, k8=647\n",
      "Initializing process 19...\n",
      "Computing A^1 out of 8, k1=149\n",
      "Computing A^2 out of 8, k2=136\n",
      "Computing A^3 out of 8, k3=295\n",
      "Computing A^4 out of 8, k4=131\n",
      "Computing A^5 out of 8, k5=234\n",
      "Computing A^6 out of 8, k6=226\n",
      "Computing A^7 out of 8, k7=180\n",
      "Computing A^8 out of 8, k8=369\n",
      "Initializing process 20...\n",
      "Computing A^1 out of 8, k1=123\n",
      "Computing A^2 out of 8, k2=162\n",
      "Computing A^3 out of 8, k3=348\n",
      "Computing A^4 out of 8, k4=151\n",
      "Computing A^5 out of 8, k5=230\n",
      "Computing A^6 out of 8, k6=244\n",
      "Computing A^7 out of 8, k7=152\n",
      "Computing A^8 out of 8, k8=344\n"
     ]
    }
   ],
   "source": [
    "totalProcesses = 20\n",
    "beta = 5.0\n",
    "\n",
    "paths = [f\"simulated_data/events{i}.csv\" for i in range(totalProcesses)]\n",
    "#paths = [f\"simulated_data/my_simulations/simu{i}.csv\" for i in range(totalProcesses)]\n",
    "allHPs = np.full(totalProcesses, None)\n",
    "\n",
    "for i in range(totalProcesses):\n",
    "    print(f\"Initializing process {i+1}...\")\n",
    "    allHPs[i] = HawkesLikelihood(path=paths[i], beta=beta)\n",
    "M = allHPs[0].M"
   ]
  },
  {
   "cell_type": "code",
   "execution_count": 4,
   "metadata": {},
   "outputs": [],
   "source": [
    "# Define big forward operator A: R^{M + M^2} -> R^{K1 + ... + Kn + totalProcesses*M}\n",
    "bigA = pxop.vstack([allHPs[i].opA for i in range(totalProcesses)])\n",
    "\n",
    "# Define big E operator E1(x_1, ..., x_K1) + E2(x_{K1+1}, ..., x_{K1+K2}) + ...\n",
    "# E: R^{K1 + ... + Kn} -> R\n",
    "bigE = pxop.hstack([allHPs[i].E for i in range(totalProcesses)])\n",
    "\n",
    "# Define big -log(likelihood operator)\n",
    "bigNegLogL = bigE * bigA"
   ]
  },
  {
   "cell_type": "code",
   "execution_count": 5,
   "metadata": {},
   "outputs": [],
   "source": [
    "# print(bigE)\n",
    "# print(bigNegLogL)\n",
    "# x = 3*np.ones(bigA.shape[1])\n",
    "# print(np.linalg.norm(bigA(x)))"
   ]
  },
  {
   "cell_type": "code",
   "execution_count": 34,
   "metadata": {},
   "outputs": [
    {
     "name": "stdout",
     "output_type": "stream",
     "text": [
      "Computation time of the Lipschitz constant: 0.4512\n",
      "Lipschitz constant: 541.05278567072\n"
     ]
    }
   ],
   "source": [
    "start = time.time()\n",
    "lip = bigA.estimate_lipschitz(method='svd')\n",
    "print(\"Computation time of the Lipschitz constant: {:.4f}\".format(time.time()-start))\n",
    "print(\"Lipschitz constant:\", lip)"
   ]
  },
  {
   "cell_type": "code",
   "execution_count": 7,
   "metadata": {},
   "outputs": [],
   "source": [
    "allArrivals = np.array([])\n",
    "for i in range(len(allHPs)):\n",
    "    for j in range(M):\n",
    "        allArrivals = np.hstack([allArrivals, allHPs[i].t[j]])"
   ]
  },
  {
   "cell_type": "markdown",
   "metadata": {},
   "source": [
    "### Defining solvers"
   ]
  },
  {
   "cell_type": "code",
   "execution_count": 140,
   "metadata": {},
   "outputs": [],
   "source": [
    "## Parameters of the solvers\n",
    "# Base\n",
    "remove = True  # originally True\n",
    "min_iterations = 1\n",
    "# Stop\n",
    "eps = 1e-3  # relative error for objective function, original value 1e-4\n",
    "tmax = 20.0\n",
    "eps_dcv = 1e-2\n",
    "# PFW\n",
    "ms_threshold = 0.8  # original value 0.8, the lower the more atoms will HP select\n",
    "init_correction = 1e-1\n",
    "final_correction = 1e-6\n",
    "correction_steps = 5\n",
    "\n",
    "# Parameter for reconstruction\n",
    "#lambda_factor = 0.1\n",
    "#lambda_ = lambda_factor * np.linalg.norm(bigA.T(allArrivals), np.infty)  # rule of thumb to define lambda\n",
    "lambda_ = 4e1"
   ]
  },
  {
   "cell_type": "code",
   "execution_count": 141,
   "metadata": {},
   "outputs": [],
   "source": [
    "# pfw = pyfwl.PFWLasso(\n",
    "#     forwardOp=hpL.opA,\n",
    "#     convexOp=hpL.E,\n",
    "#     lambda_=lambda_,\n",
    "#     M=hpL.M,\n",
    "#     negLogL=hpL.negLogL,\n",
    "#     ms_threshold=ms_threshold,\n",
    "#     init_correction_prec=init_correction,\n",
    "#     final_correction_prec=final_correction,\n",
    "#     remove_positions=remove,\n",
    "#     min_correction_steps=correction_steps,\n",
    "#     show_progress=False,\n",
    "# )\n",
    "pfw = pyfwl.PFWLasso(\n",
    "    forwardOp=bigA,\n",
    "    convexOp=bigE,\n",
    "    lambda_=lambda_,\n",
    "    M=M,\n",
    "    negLogL=bigNegLogL,\n",
    "    ms_threshold=ms_threshold,\n",
    "    init_correction_prec=init_correction,\n",
    "    final_correction_prec=final_correction,\n",
    "    remove_positions=remove,\n",
    "    min_correction_steps=correction_steps,\n",
    "    show_progress=True,\n",
    ")"
   ]
  },
  {
   "cell_type": "code",
   "execution_count": 142,
   "metadata": {},
   "outputs": [],
   "source": [
    "stop_crit = pxos.RelError(\n",
    "    eps=eps,\n",
    "    var=\"objective_func\",\n",
    "    f=None,\n",
    "    norm=2,\n",
    "    satisfy_all=True,\n",
    ")\n",
    "# alternative stopping criteria\n",
    "dcv = pyfwl.dcvStoppingCrit(eps_dcv)\n",
    "\n",
    "# Minimum number of iterations\n",
    "min_iter = pxos.MaxIter(n=min_iterations)\n",
    "\n",
    "# Maximum duration\n",
    "max_duration = pxos.MaxDuration(t=dt.timedelta(seconds=tmax))\n",
    "\n",
    "stop = (min_iter & stop_crit) | max_duration\n",
    "\n",
    "# track DCV\n",
    "track_dcv = pxos.AbsError(eps=1e-10, var=\"dcv\", f=None, norm=2, satisfy_all=True)"
   ]
  },
  {
   "cell_type": "markdown",
   "metadata": {},
   "source": [
    "### Solving"
   ]
  },
  {
   "cell_type": "code",
   "execution_count": 143,
   "metadata": {},
   "outputs": [
    {
     "name": "stdout",
     "output_type": "stream",
     "text": [
      "Polyatomic FW: Solving ...\n",
      "diff_lipschitz constant provided.\n",
      "INFO -- [2023-12-28 20:22:38.694429] Iteration 0\n",
      "\titeration: 0\n",
      "\tN_iter: 1.0\n",
      "\tRelError[objective_func]: 0.0\n",
      "\tduration: 0.01732\n",
      "\tAbsError[dcv]: inf\n",
      "\tMemorize[objective_func]: 21363.333530763626\n",
      "new indices [71]\n",
      "actual new indices: 1\n",
      "new indices [21 41 51 53 71]\n",
      "actual new indices: 4\n",
      "new indices [ 1  5  8 11 12 17 21 23 26 31 33 35 37 41 42 44 51 53 61 62 68 69 71]\n",
      "actual new indices: 18\n",
      "new indices [ 1  5  8 17 21 23 26 31 33 35 37 39 41 44 49 50 51 53 61 62 68 69 71]\n",
      "actual new indices: 3\n",
      "new indices [ 1  5  8 21 23 26 35 41 44 51 53 61 68 69 71]\n",
      "actual new indices: 0\n",
      "new indices [ 1  8 21 26 35 41 44 51 53 61 68 69 71]\n",
      "actual new indices: 0\n",
      "new indices [21 26 41 44 51 53 69 71]\n",
      "actual new indices: 0\n",
      "new indices [21 26 41 44 51 53 69 71]\n",
      "actual new indices: 0\n",
      "new indices [21 26 41 44 51 53 69 71]\n",
      "actual new indices: 0\n",
      "new indices [21 26 41 44 51 53 69 71]\n",
      "actual new indices: 0\n",
      "\tAtoms kept: 34/34\n",
      "INFO -- [2023-12-28 20:22:40.326369] Iteration 10\n",
      "\titeration: 10\n",
      "\tN_iter: 11.0\n",
      "\tRelError[objective_func]: 0.044181106135598634\n",
      "\tduration: 1.64926\n",
      "\tAbsError[dcv]: 96.1878033136471\n",
      "\tMemorize[objective_func]: -82759.62895066036\n",
      "new indices [21 41 51 53 69 71]\n",
      "actual new indices: 0\n",
      "new indices [21 41 51 53 69 71]\n",
      "actual new indices: 0\n",
      "new indices [21 41 51 53 69 71]\n",
      "actual new indices: 0\n",
      "new indices [21 41 51 53 69 71]\n",
      "actual new indices: 0\n",
      "new indices [21 41 51 53 69 71]\n",
      "actual new indices: 0\n",
      "new indices [21 41 51 53 69 71]\n",
      "actual new indices: 0\n",
      "new indices [21 41 51 53 69 71]\n",
      "actual new indices: 0\n",
      "new indices [21 41 51 53 69 71]\n",
      "actual new indices: 0\n",
      "new indices [ 8 17 21 26 35 41 44 51 53 62 68 69 71]\n",
      "actual new indices: 0\n",
      "INFO -- [2023-12-28 20:22:43.566469] Iteration 19\n",
      "\titeration: 19\n",
      "\tN_iter: 20.0\n",
      "\tRelError[objective_func]: 0.008615211571743065\n",
      "\tduration: 4.88936\n",
      "\tAbsError[dcv]: 45.875842087822704\n",
      "\tMemorize[objective_func]: -159203.04083548166\n",
      "INFO -- [2023-12-28 20:22:43.566469] Stopping Criterion satisfied -> END\n",
      "\tSolved in 4.893 seconds\n"
     ]
    }
   ],
   "source": [
    "print(\"Polyatomic FW: Solving ...\")\n",
    "start = time.time()\n",
    "pfw.fit(stop_crit= stop | track_dcv, diff_lipschitz=lip**2)\n",
    "data_p, hist_p = pfw.stats()\n",
    "time_p = time.time() - start\n",
    "print(\"\\tSolved in {:.3f} seconds\".format(time_p))\n"
   ]
  },
  {
   "cell_type": "markdown",
   "metadata": {},
   "source": [
    "### Evaluation of the solve"
   ]
  },
  {
   "cell_type": "code",
   "execution_count": 144,
   "metadata": {},
   "outputs": [
    {
     "name": "stdout",
     "output_type": "stream",
     "text": [
      "Final value of dual certificate:\n",
      "\tPFW: 45.8758\n",
      "Final value of objective function:\n",
      "\tPFW : -159203.04\n"
     ]
    }
   ],
   "source": [
    "print(\"Final value of dual certificate:\\n\\tPFW: {:.4f}\".format(data_p[\"dcv\"]))\n",
    "print(\"Final value of objective function:\\n\\tPFW : {:.2f}\".format(hist_p[-1][-1]))"
   ]
  },
  {
   "cell_type": "code",
   "execution_count": 145,
   "metadata": {},
   "outputs": [
    {
     "name": "stdout",
     "output_type": "stream",
     "text": [
      "Process 0: [3.45838424 1.02541873 0.         0.         0.         1.01973321\n",
      " 0.         0.         1.12278458]\n",
      "Process 1: [3.36374342 0.         0.81451968 0.85858934 0.         0.\n",
      " 0.         0.         1.03813631]\n",
      "Process 2: [3.84393909 0.         0.         1.94865975 0.         1.0066375\n",
      " 0.         0.         1.30560255]\n",
      "Process 3: [3.41255934 0.         0.         0.         0.87152912 0.\n",
      " 0.89308987 0.         1.09664151]\n",
      "Process 4: [3.82337667 0.92444795 0.         0.80760324 0.         2.09850444\n",
      " 0.84973461 0.         1.33329541]\n",
      "Process 5: [3.79376621 0.         0.         0.         0.76843447 0.85868538\n",
      " 1.88512376 0.         1.72737683]\n",
      "Process 6: [3.47085985 0.         0.         0.         0.         0.\n",
      " 0.         1.01897495 1.0350875 ]\n",
      "Process 7: [3.98340723 0.         0.         0.         0.         1.09046268\n",
      " 1.66870713 0.         3.11292324]\n"
     ]
    }
   ],
   "source": [
    "def supp(arr):\n",
    "    return np.where(np.abs(arr) > 1e-3)[0]\n",
    "#M = hpL.M\n",
    "#print(data_p[\"x\"][supp(data_p[\"x\"])])\n",
    "#print(data_p[\"x\"])\n",
    "for i in range(M):\n",
    "    print(f\"Process {i}:\", data_p[\"x\"][(i*(M + 1)):(i*(M + 1) + M + 1)])\n",
    "\n",
    "# Arrange intensities in a M x M matrix\n",
    "intensities = np.zeros((M, M))\n",
    "mus = np.zeros((M,1))\n",
    "for i in range(M):\n",
    "    intensities[i, :] = data_p[\"x\"][(i*(M + 1) + 1):(i*(M + 1) + M + 1)]\n",
    "    mus[i] = data_p[\"x\"][i*(M+1)]"
   ]
  },
  {
   "cell_type": "code",
   "execution_count": 146,
   "metadata": {},
   "outputs": [
    {
     "name": "stdout",
     "output_type": "stream",
     "text": [
      "mu1: [3.45838424]\n",
      "mu2: [3.36374342]\n",
      "mu3: [3.84393909]\n",
      "mu4: [3.41255934]\n",
      "mu5: [3.82337667]\n",
      "mu6: [3.79376621]\n",
      "mu7: [3.47085985]\n",
      "mu8: [3.98340723]\n",
      "[[0.04101675 0.         0.         0.         0.04078933 0.\n",
      "  0.         0.04491138]\n",
      " [0.         0.03258079 0.03434357 0.         0.         0.\n",
      "  0.         0.04152545]\n",
      " [0.         0.         0.07794639 0.         0.0402655  0.\n",
      "  0.         0.0522241 ]\n",
      " [0.         0.         0.         0.03486116 0.         0.03572359\n",
      "  0.         0.04386566]\n",
      " [0.03697792 0.         0.03230413 0.         0.08394018 0.03398938\n",
      "  0.         0.05333182]\n",
      " [0.         0.         0.         0.03073738 0.03434742 0.07540495\n",
      "  0.         0.06909507]\n",
      " [0.         0.         0.         0.         0.         0.\n",
      "  0.040759   0.0414035 ]\n",
      " [0.         0.         0.         0.         0.04361851 0.06674829\n",
      "  0.         0.12451693]]\n"
     ]
    }
   ],
   "source": [
    "# Visualize solution\n",
    "fig, ax = plt.subplots(1, 2, figsize=(8,5))\n",
    "\n",
    "# Plot alpha's\n",
    "im = ax[1].imshow(intensities/(beta*beta), # la norme L1 est alpha/beta^2\n",
    "                cmap='viridis', \n",
    "                interpolation='nearest', \n",
    "                extent=[1, M, M, 1])\n",
    "fig.colorbar(im, ax=ax[1])  # Add a colorbar to show the scale\n",
    "ax[1].set_title('L1 norms of the $h_{ij}$')\n",
    "\n",
    "# Plot mu's\n",
    "im = ax[0].imshow(mus,\n",
    "                  cmap='viridis',\n",
    "                  interpolation='nearest',\n",
    "                  extent=[1, 2, M, 1])\n",
    "fig.colorbar(im, ax=ax[0])  # Add a colorbar to show the scale\n",
    "ax[0].set_title('Background intensities')\n",
    "\n",
    "plt.show()\n",
    "\n",
    "for i in range(M):\n",
    "    print(f\"mu{i+1}:\", mus[i])\n",
    "\n",
    "print(intensities/(beta*beta))"
   ]
  },
  {
   "cell_type": "code",
   "execution_count": 147,
   "metadata": {},
   "outputs": [],
   "source": [
    "# Plot objective function value\n",
    "mini = hist_p[\"Memorize[objective_func]\"][-1]\n",
    "\n",
    "plt.figure(figsize=(10, 8))\n",
    "plt.suptitle(\"Objective function values\")\n",
    "plt.subplot(211)\n",
    "plt.title(\"Log-scale\")\n",
    "plt.yscale(\"log\")\n",
    "plt.plot(\n",
    "    hist_p[\"duration\"],\n",
    "    (hist_p[\"Memorize[objective_func]\"] - mini),\n",
    "    label=\"PFW\",\n",
    "    marker=\"+\",\n",
    ")\n",
    "\n",
    "plt.legend()\n",
    "plt.ylabel(\"OFV\")\n",
    "\n",
    "plt.subplot(212)\n",
    "plt.plot(\n",
    "    hist_p[\"duration\"],\n",
    "    (hist_p[\"Memorize[objective_func]\"] - mini),\n",
    "    label=\"PFW\",\n",
    "    marker=\"+\",\n",
    ")\n",
    "\n",
    "plt.legend()\n",
    "plt.ylabel(\"OFV\")\n",
    "plt.xlabel(\"Solving time\")\n",
    "plt.title(\"Linear scale\")\n",
    "plt.show()\n"
   ]
  },
  {
   "cell_type": "code",
   "execution_count": 148,
   "metadata": {},
   "outputs": [],
   "source": [
    "# Plot DCV values\n",
    "plt.figure(figsize=(10, 5))\n",
    "plt.title(\"Dual certificate values\")\n",
    "plt.plot(hist_p[\"duration\"], hist_p[\"AbsError[dcv]\"], label=\"PFW\", marker=\"+\")\n",
    "plt.legend()\n",
    "#plt.hlines(1, 0, hist_v[\"duration\"].max(), color='r', ls=\"--\")\n",
    "#plt.ylim(0, 1.02/lambda_factor)\n",
    "plt.show()"
   ]
  },
  {
   "cell_type": "code",
   "execution_count": null,
   "metadata": {},
   "outputs": [],
   "source": []
  }
 ],
 "metadata": {
  "kernelspec": {
   "display_name": "Python 3",
   "language": "python",
   "name": "python3"
  },
  "language_info": {
   "codemirror_mode": {
    "name": "ipython",
    "version": 3
   },
   "file_extension": ".py",
   "mimetype": "text/x-python",
   "name": "python",
   "nbconvert_exporter": "python",
   "pygments_lexer": "ipython3",
   "version": "3.10.7"
  }
 },
 "nbformat": 4,
 "nbformat_minor": 2
}

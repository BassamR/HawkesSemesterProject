{
 "cells": [
  {
   "cell_type": "code",
   "execution_count": 1,
   "metadata": {},
   "outputs": [
    {
     "name": "stdout",
     "output_type": "stream",
     "text": [
      "Seed: 1\n"
     ]
    }
   ],
   "source": [
    "import datetime as dt\n",
    "import time\n",
    "#import matplotlib\n",
    "import matplotlib.pyplot as plt\n",
    "import numpy as np\n",
    "#import scipy as sp\n",
    "\n",
    "import pyxu.abc as pxa\n",
    "import pyxu.operator as pxop\n",
    "import pyxu.opt.stop as pxos\n",
    "#from pyxu.opt.solver.pgd import PGD\n",
    "\n",
    "import pfw_hawkes as pyfwl\n",
    "from hawkes_likelihood import HawkesLikelihood\n",
    "import utils as ut\n",
    "\n",
    "seed = 1  # None  # for reproducibility\n",
    "if seed is None:\n",
    "    seed = np.random.randint(0, 1000)\n",
    "print(f\"Seed: {seed}\")"
   ]
  },
  {
   "cell_type": "code",
   "execution_count": 2,
   "metadata": {},
   "outputs": [],
   "source": [
    "%load_ext autoreload\n",
    "%autoreload 2\n",
    "\n",
    "%matplotlib qt"
   ]
  },
  {
   "cell_type": "markdown",
   "metadata": {},
   "source": [
    "### Playing around with stuff"
   ]
  },
  {
   "cell_type": "code",
   "execution_count": 3,
   "metadata": {},
   "outputs": [
    {
     "name": "stdout",
     "output_type": "stream",
     "text": [
      "[1, 2, 3, 5, 6, 7, 9, 10, 11]\n",
      "[array([9, 9, 9]), array([9, 9, 9]), array([9, 9, 9])]\n",
      "[9 9 9 9 9 9 9 9 9]\n"
     ]
    }
   ],
   "source": [
    "testarr = np.array([1, 9, 9, 9, 2, 9, 9, 9, 3, 9, 9, 9]) #M=3 => M*(M+1) = 12\n",
    "#[kM + k, kM+k + M] pour la k'eme tranche\n",
    "indices = [index for k in range(3) for index in range(k*3 + k + 1, k*3 + k + 3 + 1)]\n",
    "print(indices)\n",
    "\n",
    "print([testarr[(k*3 + k + 1):(k*3 + k + 3 + 1)] for k in range(0, 3)])\n",
    "print(testarr[indices])"
   ]
  },
  {
   "cell_type": "code",
   "execution_count": 4,
   "metadata": {},
   "outputs": [],
   "source": [
    "# ne pas oublier que le vecteur de parametres theta est dans R^{M^2 + M}\n",
    "testL1norm = ut.L1NormPartialReg(shape=(1,3*(3+1)), S=indices, regLambda=1)"
   ]
  },
  {
   "cell_type": "code",
   "execution_count": 5,
   "metadata": {},
   "outputs": [
    {
     "name": "stdout",
     "output_type": "stream",
     "text": [
      "81.0\n",
      "[1. 8. 8. 8. 2. 8. 8. 8. 3. 8. 8. 8.]\n"
     ]
    }
   ],
   "source": [
    "print(testL1norm(testarr))\n",
    "print(testL1norm.prox(testarr, tau=1))"
   ]
  },
  {
   "cell_type": "code",
   "execution_count": 6,
   "metadata": {},
   "outputs": [
    {
     "name": "stdout",
     "output_type": "stream",
     "text": [
      "injection: [1. 0. 0. 0. 1. 0. 0. 0. 0. 0.]\n"
     ]
    }
   ],
   "source": [
    "supportIndices = [0, 4]\n",
    "injection = pxop.SubSample(10, supportIndices).T\n",
    "\n",
    "x = np.ones(len(supportIndices))\n",
    "\n",
    "print('injection:', injection(x))"
   ]
  },
  {
   "cell_type": "code",
   "execution_count": 7,
   "metadata": {},
   "outputs": [
    {
     "name": "stdout",
     "output_type": "stream",
     "text": [
      "[0 4 8]\n",
      "[1 2 3]\n"
     ]
    }
   ],
   "source": [
    "testarr = np.array([1, 9, 9, 9, 2, 9, 9, 9, 3, 9, 9, 9]) #M=3 => M*(M+1) = 12\n",
    "indices = np.array([k + k*3 for k in range(3)], dtype=\"int32\")\n",
    "print(indices)\n",
    "print(testarr[indices])"
   ]
  },
  {
   "cell_type": "code",
   "execution_count": 54,
   "metadata": {},
   "outputs": [
    {
     "name": "stdout",
     "output_type": "stream",
     "text": [
      "[5.46410162]\n",
      "[5.46410162]\n"
     ]
    }
   ],
   "source": [
    "dim1 = 2\n",
    "dim2 = 3\n",
    "\n",
    "l1normdim1 = pxop.L1Norm(dim=dim1)\n",
    "l2normdim2 = pxop.L2Norm(dim=dim2)\n",
    "\n",
    "x1 = np.ones(dim1)\n",
    "x2 = 2*np.ones(dim2)\n",
    "bigx = np.hstack([x1, x2])\n",
    "\n",
    "#sumOp = pxop.Sum(arg_shape=)\n",
    "normOp = pxop.hstack([l1normdim1, l2normdim2])\n",
    "print(normOp(bigx))\n",
    "print(l1normdim1(x1) + l2normdim2(x2))"
   ]
  },
  {
   "cell_type": "code",
   "execution_count": null,
   "metadata": {},
   "outputs": [],
   "source": [
    "toyM = 4\n",
    "ez = np.array([k + k*toyM for k in range(toyM)], dtype=\"int32\")\n",
    "print(ez)\n",
    "\n",
    "ez2 = [index for k in range(toyM) for index in range(k*toyM + k + 1, k*toyM + k + toyM + 1)]\n",
    "print(ez2)"
   ]
  },
  {
   "cell_type": "markdown",
   "metadata": {},
   "source": [
    "### Generation of the source"
   ]
  },
  {
   "cell_type": "code",
   "execution_count": 3,
   "metadata": {},
   "outputs": [],
   "source": [
    "path = \"simulated_data/events13.csv\"\n",
    "beta = 5\n",
    "hpL = HawkesLikelihood(path=path, beta=beta)\n",
    "#hpL.plot_realization()"
   ]
  },
  {
   "cell_type": "code",
   "execution_count": 4,
   "metadata": {},
   "outputs": [
    {
     "name": "stdout",
     "output_type": "stream",
     "text": [
      "Computation time of the Lipschitz constant: 0.0249\n",
      "Lipschitz constant: 115.24377964750194\n"
     ]
    }
   ],
   "source": [
    "start = time.time()\n",
    "lip = hpL.opA.estimate_lipschitz(method='svd')\n",
    "print(\"Computation time of the Lipschitz constant: {:.4f}\".format(time.time()-start))\n",
    "print(\"Lipschitz constant:\", lip)\n",
    "#np.linalg.svd to compute the largest singular value which is = to the lipschitz constant for linear operators"
   ]
  },
  {
   "cell_type": "markdown",
   "metadata": {},
   "source": [
    "### Generation of the source (using multiple realizations)"
   ]
  },
  {
   "cell_type": "code",
   "execution_count": 45,
   "metadata": {},
   "outputs": [
    {
     "name": "stdout",
     "output_type": "stream",
     "text": [
      "Initializing process 1...\n",
      "Initializing process 2...\n",
      "Initializing process 3...\n",
      "Initializing process 4...\n",
      "Initializing process 5...\n",
      "Initializing process 6...\n",
      "Initializing process 7...\n",
      "Initializing process 8...\n",
      "Initializing process 9...\n",
      "Initializing process 10...\n",
      "Initializing process 11...\n",
      "Initializing process 12...\n",
      "Initializing process 13...\n",
      "Initializing process 14...\n",
      "Initializing process 15...\n"
     ]
    }
   ],
   "source": [
    "totalProcesses = 15\n",
    "beta = 5\n",
    "\n",
    "paths = [f\"simulated_data/events{i}.csv\" for i in range(totalProcesses)]\n",
    "allHPs = np.full(totalProcesses, None)\n",
    "\n",
    "for i in range(totalProcesses):\n",
    "    print(f\"Initializing process {i+1}...\")\n",
    "    allHPs[i] = HawkesLikelihood(path=paths[i], beta=beta)\n",
    "M = allHPs[0].M\n",
    "# j = 3\n",
    "# print(allHPs[j].E(np.ones(allHPs[j].E.shape[1])))"
   ]
  },
  {
   "cell_type": "code",
   "execution_count": 46,
   "metadata": {},
   "outputs": [],
   "source": [
    "# Define big forward operator A: R^{M + M^2} -> R^{K1 + ... + Kn}\n",
    "bigA = pxop.vstack([allHPs[i].opA for i in range(totalProcesses)])\n",
    "\n",
    "# Define big E operator E1(x_1, ..., x_K1) + E2(x_{K1+1}, ..., x_{K1+K2}) + ...\n",
    "# E: R^{K1 + ... + Kn} -> R\n",
    "bigE = pxop.hstack([allHPs[i].E for i in range(totalProcesses)])\n",
    "\n",
    "# Define big -log(likelihood operator)\n",
    "bigNegLogL = bigE * bigA"
   ]
  },
  {
   "cell_type": "code",
   "execution_count": 47,
   "metadata": {},
   "outputs": [],
   "source": [
    "# print(bigE)\n",
    "# print(bigNegLogL)\n",
    "# x = np.ones(bigE.shape[1])\n",
    "# print(bigE(x))"
   ]
  },
  {
   "cell_type": "code",
   "execution_count": 48,
   "metadata": {},
   "outputs": [
    {
     "name": "stdout",
     "output_type": "stream",
     "text": [
      "Computation time of the Lipschitz constant: 0.3081\n",
      "Lipschitz constant: 471.8502818691068\n"
     ]
    }
   ],
   "source": [
    "start = time.time()\n",
    "lip = bigA.estimate_lipschitz(method='svd')\n",
    "print(\"Computation time of the Lipschitz constant: {:.4f}\".format(time.time()-start))\n",
    "print(\"Lipschitz constant:\", lip)"
   ]
  },
  {
   "cell_type": "markdown",
   "metadata": {},
   "source": [
    "### Defining solvers"
   ]
  },
  {
   "cell_type": "code",
   "execution_count": 56,
   "metadata": {},
   "outputs": [],
   "source": [
    "# Parameter for reconstruction\n",
    "#lambda_factor = 0.1\n",
    "\n",
    "## Parameters of the solvers\n",
    "# Base\n",
    "remove = True\n",
    "min_iterations = 1\n",
    "# Stop\n",
    "eps = 1e-4\n",
    "tmax = 15.0\n",
    "eps_dcv = 1e-2\n",
    "# PFW\n",
    "ms_threshold = 0.8  # original value 0.8, the lower the more atoms will HP select\n",
    "init_correction = 1e-1\n",
    "final_correction = 1e-6\n",
    "correction_steps = 5\n",
    "\n",
    "#lambda_ = lambda_factor * np.linalg.norm(op.T(measurements), np.infty)  # rule of thumb to define lambda\n",
    "lambda_ = 5e1"
   ]
  },
  {
   "cell_type": "code",
   "execution_count": 57,
   "metadata": {},
   "outputs": [],
   "source": [
    "# pfw = pyfwl.PFWLasso(\n",
    "#     forwardOp=hpL.opA,\n",
    "#     convexOp=hpL.E,\n",
    "#     lambda_=lambda_,\n",
    "#     M=hpL.M,\n",
    "#     negLogL=hpL.negLogL,\n",
    "#     ms_threshold=ms_threshold,\n",
    "#     init_correction_prec=init_correction,\n",
    "#     final_correction_prec=final_correction,\n",
    "#     remove_positions=remove,\n",
    "#     min_correction_steps=correction_steps,\n",
    "#     show_progress=False,\n",
    "# )\n",
    "pfw = pyfwl.PFWLasso(\n",
    "    forwardOp=bigA,\n",
    "    convexOp=bigE,\n",
    "    lambda_=lambda_,\n",
    "    M=M,\n",
    "    negLogL=bigNegLogL,\n",
    "    ms_threshold=ms_threshold,\n",
    "    init_correction_prec=init_correction,\n",
    "    final_correction_prec=final_correction,\n",
    "    remove_positions=remove,\n",
    "    min_correction_steps=correction_steps,\n",
    "    show_progress=False,\n",
    ")"
   ]
  },
  {
   "cell_type": "code",
   "execution_count": 58,
   "metadata": {},
   "outputs": [],
   "source": [
    "stop_crit = pxos.RelError(\n",
    "    eps=eps,\n",
    "    var=\"objective_func\",\n",
    "    f=None,\n",
    "    norm=2,\n",
    "    satisfy_all=True,\n",
    ")\n",
    "# alternative stopping criteria\n",
    "dcv = pyfwl.dcvStoppingCrit(eps_dcv)\n",
    "\n",
    "# Minimum number of iterations\n",
    "min_iter = pxos.MaxIter(n=min_iterations)\n",
    "\n",
    "# Maximum duration\n",
    "max_duration = pxos.MaxDuration(t=dt.timedelta(seconds=tmax))\n",
    "\n",
    "stop = (min_iter & stop_crit) | max_duration\n",
    "\n",
    "# track DCV\n",
    "track_dcv = pxos.AbsError(eps=1e-10, var=\"dcv\", f=None, norm=2, satisfy_all=True)"
   ]
  },
  {
   "cell_type": "markdown",
   "metadata": {},
   "source": [
    "### Solving"
   ]
  },
  {
   "cell_type": "code",
   "execution_count": 59,
   "metadata": {},
   "outputs": [
    {
     "name": "stdout",
     "output_type": "stream",
     "text": [
      "Polyatomic FW: Solving ...\n",
      "diff_lipschitz constant provided.\n",
      "initial value: [16431.99225718]\n",
      "new indices [71]\n",
      "actual new indices: 1\n",
      "new indices [21 41 51 53]\n",
      "actual new indices: 4\n",
      "new indices [ 1  5  8 11 17 21 23 26 31 33 35 37 41 42 44 51 53 61 62 68 69 71]\n",
      "actual new indices: 17\n",
      "new indices [ 1  5  8 11 12 17 21 23 24 26 31 33 35 37 41 44 49 50 51 53 61 62 66 68\n",
      " 69 71]\n",
      "actual new indices: 5\n",
      "new indices [ 1  5  8 17 21 23 26 31 33 35 37 41 44 51 53 61 62 68 69 71]\n",
      "actual new indices: 0\n",
      "new indices [ 1  5  8 17 21 23 26 35 41 44 51 53 61 62 68 69 71]\n",
      "actual new indices: 0\n",
      "new indices [ 8 21 26 35 41 44 51 53 61 68 69 71]\n",
      "actual new indices: 0\n",
      "new indices [21 26 41 44 51 53 69 71]\n",
      "actual new indices: 0\n",
      "new indices [21 26 41 44 51 53 69 71]\n",
      "actual new indices: 0\n",
      "new indices [21 26 41 44 51 53 69 71]\n",
      "actual new indices: 0\n",
      "new indices [21 26 41 44 51 53 69 71]\n",
      "actual new indices: 0\n",
      "new indices [21 26 41 44 51 53 69 71]\n",
      "actual new indices: 0\n",
      "new indices [21 41 44 51 53 69 71]\n",
      "actual new indices: 0\n",
      "new indices [21 41 51 53 69 71]\n",
      "actual new indices: 0\n",
      "new indices [21 41 51 53 69 71]\n",
      "actual new indices: 0\n",
      "new indices [21 26 41 44 51 53 69 71]\n",
      "actual new indices: 0\n",
      "new indices [21 26 41 44 51 53 69 71]\n",
      "actual new indices: 0\n",
      "new indices [21 41 44 51 53 69 71]\n",
      "actual new indices: 0\n",
      "new indices [21 41 44 51 53 69 71]\n",
      "actual new indices: 0\n",
      "new indices [21 41 51 53 69 71]\n",
      "actual new indices: 0\n",
      "new indices [21 41 51 53 69 71]\n",
      "actual new indices: 0\n",
      "new indices [21 41 51 53 69 71]\n",
      "actual new indices: 0\n",
      "new indices [21 41 51 53 69 71]\n",
      "actual new indices: 0\n",
      "new indices [21 41 51 53 69 71]\n",
      "actual new indices: 0\n",
      "new indices [21 41 51 53 69 71]\n",
      "actual new indices: 0\n",
      "new indices [21 41 51 53 69 71]\n",
      "actual new indices: 0\n",
      "new indices [21 41 51 53 69 71]\n",
      "actual new indices: 0\n",
      "new indices [21 41 51 53 69 71]\n",
      "actual new indices: 0\n",
      "new indices [21 41 51 53 69 71]\n",
      "actual new indices: 0\n",
      "new indices [21 41 51 53 69 71]\n",
      "actual new indices: 0\n",
      "new indices [41 51 53 69 71]\n",
      "actual new indices: 0\n",
      "new indices [41 51 69 71]\n",
      "actual new indices: 0\n",
      "new indices [41 51 71]\n",
      "actual new indices: 0\n",
      "new indices [41 51 71]\n",
      "actual new indices: 0\n",
      "new indices [41 51 71]\n",
      "actual new indices: 0\n",
      "new indices [21 41 51 53 69 71]\n",
      "actual new indices: 0\n",
      "new indices [21 41 51 53 69 71]\n",
      "actual new indices: 0\n",
      "new indices [21 41 51 53 69 71]\n",
      "actual new indices: 0\n",
      "new indices [21 41 51 53 69 71]\n",
      "actual new indices: 0\n",
      "new indices [41 51 53 69 71]\n",
      "actual new indices: 0\n",
      "new indices [41 51 53 69 71]\n",
      "actual new indices: 0\n",
      "new indices [41 51 53 69 71]\n",
      "actual new indices: 0\n",
      "new indices [41 51 53 69 71]\n",
      "actual new indices: 0\n",
      "new indices [41 51 53 71]\n",
      "actual new indices: 0\n",
      "new indices [41 51 53 71]\n",
      "actual new indices: 0\n",
      "new indices [41 53 71]\n",
      "actual new indices: 0\n",
      "new indices [41 53 71]\n",
      "actual new indices: 0\n",
      "new indices [41 71]\n",
      "actual new indices: 0\n",
      "new indices [41 71]\n",
      "actual new indices: 0\n",
      "new indices [41 71]\n",
      "actual new indices: 0\n",
      "new indices [41 71]\n",
      "actual new indices: 0\n",
      "new indices [41 71]\n",
      "actual new indices: 0\n",
      "new indices [41 71]\n",
      "actual new indices: 0\n",
      "new indices [41 71]\n",
      "actual new indices: 0\n",
      "new indices [41 71]\n",
      "actual new indices: 0\n",
      "new indices [41 71]\n",
      "actual new indices: 0\n",
      "new indices [41 71]\n",
      "actual new indices: 0\n",
      "new indices [41 71]\n",
      "actual new indices: 0\n",
      "new indices [41 71]\n",
      "actual new indices: 0\n",
      "new indices [41 71]\n",
      "actual new indices: 0\n",
      "new indices [41 71]\n",
      "actual new indices: 0\n",
      "new indices [41 71]\n",
      "actual new indices: 0\n",
      "new indices [41 71]\n",
      "actual new indices: 0\n",
      "new indices [71]\n",
      "actual new indices: 0\n",
      "new indices [71]\n",
      "actual new indices: 0\n",
      "new indices [71]\n",
      "actual new indices: 0\n",
      "new indices [71]\n",
      "actual new indices: 0\n",
      "new indices [71]\n",
      "actual new indices: 0\n",
      "new indices [71]\n",
      "actual new indices: 0\n",
      "new indices [71]\n",
      "actual new indices: 0\n",
      "new indices [71]\n",
      "actual new indices: 0\n",
      "new indices [71]\n",
      "actual new indices: 0\n",
      "new indices [71]\n",
      "actual new indices: 0\n",
      "new indices [71]\n",
      "actual new indices: 0\n",
      "new indices [71]\n",
      "actual new indices: 0\n",
      "new indices [71]\n",
      "actual new indices: 0\n",
      "new indices [71]\n",
      "actual new indices: 0\n",
      "new indices [71]\n",
      "actual new indices: 0\n",
      "new indices [71]\n",
      "actual new indices: 0\n",
      "new indices [71]\n",
      "actual new indices: 0\n",
      "new indices [71]\n",
      "actual new indices: 0\n",
      "new indices [71]\n",
      "actual new indices: 0\n",
      "new indices [71]\n",
      "actual new indices: 0\n",
      "new indices [71]\n",
      "actual new indices: 0\n",
      "new indices [71]\n",
      "actual new indices: 0\n",
      "new indices [71]\n",
      "actual new indices: 0\n",
      "new indices [71]\n",
      "actual new indices: 0\n",
      "new indices [71]\n",
      "actual new indices: 0\n",
      "new indices [71]\n",
      "actual new indices: 0\n",
      "new indices [71]\n",
      "actual new indices: 0\n",
      "new indices [71]\n",
      "actual new indices: 0\n",
      "new indices [71]\n",
      "actual new indices: 0\n",
      "new indices [71]\n",
      "actual new indices: 0\n",
      "new indices [71]\n",
      "actual new indices: 0\n",
      "new indices [71]\n",
      "actual new indices: 0\n",
      "new indices [71]\n",
      "actual new indices: 0\n",
      "new indices [71]\n",
      "actual new indices: 0\n",
      "new indices [71]\n",
      "actual new indices: 0\n",
      "new indices [71]\n",
      "actual new indices: 0\n",
      "new indices [71]\n",
      "actual new indices: 0\n",
      "new indices [71]\n",
      "actual new indices: 0\n",
      "new indices [71]\n",
      "actual new indices: 0\n",
      "new indices [71]\n",
      "actual new indices: 0\n",
      "\tSolved in 15.131 seconds\n"
     ]
    }
   ],
   "source": [
    "print(\"Polyatomic FW: Solving ...\")\n",
    "start = time.time()\n",
    "pfw.fit(stop_crit= stop | track_dcv, diff_lipschitz=lip**2)\n",
    "data_p, hist_p = pfw.stats()\n",
    "time_p = time.time() - start\n",
    "print(\"\\tSolved in {:.3f} seconds\".format(time_p))\n"
   ]
  },
  {
   "cell_type": "markdown",
   "metadata": {},
   "source": [
    "### Evaluation of the solve"
   ]
  },
  {
   "cell_type": "code",
   "execution_count": 60,
   "metadata": {},
   "outputs": [
    {
     "name": "stdout",
     "output_type": "stream",
     "text": [
      "Final value of dual certificate:\n",
      "\tPFW: 16.2211\n",
      "Final value of objective function:\n",
      "\tPFW : -215220.37\n"
     ]
    }
   ],
   "source": [
    "print(\"Final value of dual certificate:\\n\\tPFW: {:.4f}\".format(data_p[\"dcv\"]))\n",
    "print(\"Final value of objective function:\\n\\tPFW : {:.2f}\".format(hist_p[-1][-1]))"
   ]
  },
  {
   "cell_type": "code",
   "execution_count": 61,
   "metadata": {},
   "outputs": [
    {
     "name": "stdout",
     "output_type": "stream",
     "text": [
      "Process 0: [8.52283394 1.81369348 0.         0.         0.         2.11031491\n",
      " 0.         0.         2.49867026]\n",
      "Process 1: [8.4012962  0.         1.52299467 1.64664656 0.         0.\n",
      " 0.         0.         2.33277549]\n",
      "Process 2: [9.10498048 0.         0.         3.59250122 0.         2.14625727\n",
      " 1.78839866 0.         2.79544619]\n",
      "Process 3: [8.4656858  0.         0.         0.         1.67657947 0.\n",
      " 1.95391461 0.         2.42796902]\n",
      "Process 4: [9.21772692 1.76831365 0.         0.         0.         4.24649332\n",
      " 1.88980259 0.         2.96175891]\n",
      "Process 5: [9.10116224 0.         0.         0.         1.54386941 1.89699403\n",
      " 3.79658097 0.         3.67887336]\n",
      "Process 6: [8.55529222 0.         0.         0.         0.         0.\n",
      " 0.         1.9231656  2.38600333]\n",
      "Process 7: [9.4794496  0.         0.         1.85320832 0.         2.27866328\n",
      " 3.49087439 0.         5.77384838]\n"
     ]
    }
   ],
   "source": [
    "def supp(arr):\n",
    "    return np.where(np.abs(arr) > 1e-3)[0]\n",
    "\n",
    "#print(data_p[\"x\"][supp(data_p[\"x\"])])\n",
    "#print(data_p[\"x\"])\n",
    "for i in range(M):\n",
    "    print(f\"Process {i}:\", data_p[\"x\"][(i*(M + 1)):(i*(M + 1) + M + 1)])\n",
    "\n",
    "# Arrange intensities in a M x M matrix\n",
    "intensities = np.zeros((M, M))\n",
    "for i in range(M):\n",
    "    intensities[i, :] = data_p[\"x\"][(i*(M + 1) + 1):(i*(M + 1) + M + 1)]"
   ]
  },
  {
   "cell_type": "code",
   "execution_count": 62,
   "metadata": {},
   "outputs": [
    {
     "name": "stdout",
     "output_type": "stream",
     "text": [
      "mu1: 8.522833943418352\n",
      "mu2: 8.401296197840823\n",
      "mu3: 9.104980480619759\n",
      "mu4: 8.465685801621003\n",
      "mu5: 9.217726924503545\n",
      "mu6: 9.101162241507522\n",
      "mu7: 8.555292221972485\n",
      "mu8: 9.479449598914872\n",
      "[[0.07254774 0.         0.         0.         0.0844126  0.\n",
      "  0.         0.09994681]\n",
      " [0.         0.06091979 0.06586586 0.         0.         0.\n",
      "  0.         0.09331102]\n",
      " [0.         0.         0.14370005 0.         0.08585029 0.07153595\n",
      "  0.         0.11181785]\n",
      " [0.         0.         0.         0.06706318 0.         0.07815658\n",
      "  0.         0.09711876]\n",
      " [0.07073255 0.         0.         0.         0.16985973 0.0755921\n",
      "  0.         0.11847036]\n",
      " [0.         0.         0.         0.06175478 0.07587976 0.15186324\n",
      "  0.         0.14715493]\n",
      " [0.         0.         0.         0.         0.         0.\n",
      "  0.07692662 0.09544013]\n",
      " [0.         0.         0.07412833 0.         0.09114653 0.13963498\n",
      "  0.         0.23095394]]\n"
     ]
    }
   ],
   "source": [
    "# Visualize solution\n",
    "fig, ax = plt.subplots(1, 1, figsize=(5,5))\n",
    "im = ax.imshow(intensities/(beta*beta), # la norme L1 est alpha/beta^2\n",
    "                cmap='viridis', \n",
    "                interpolation='nearest', \n",
    "                extent=[1, M, M, 1])\n",
    "fig.colorbar(im, ax=ax)  # Add a colorbar to show the scale\n",
    "ax.set_title('L1 norms of the $h_{ij}$')\n",
    "plt.show()\n",
    "\n",
    "for i in range(M):\n",
    "    print(f\"mu{i+1}:\", data_p[\"x\"][i*(M + 1)])\n",
    "\n",
    "print(intensities/(beta*beta))"
   ]
  },
  {
   "cell_type": "code",
   "execution_count": 116,
   "metadata": {},
   "outputs": [],
   "source": [
    "hpL.plot_realization()"
   ]
  },
  {
   "cell_type": "code",
   "execution_count": null,
   "metadata": {},
   "outputs": [],
   "source": []
  }
 ],
 "metadata": {
  "kernelspec": {
   "display_name": "Python 3",
   "language": "python",
   "name": "python3"
  },
  "language_info": {
   "codemirror_mode": {
    "name": "ipython",
    "version": 3
   },
   "file_extension": ".py",
   "mimetype": "text/x-python",
   "name": "python",
   "nbconvert_exporter": "python",
   "pygments_lexer": "ipython3",
   "version": "3.10.7"
  }
 },
 "nbformat": 4,
 "nbformat_minor": 2
}

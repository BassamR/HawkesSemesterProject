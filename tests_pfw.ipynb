{
 "cells": [
  {
   "cell_type": "code",
   "execution_count": 1,
   "metadata": {},
   "outputs": [
    {
     "name": "stdout",
     "output_type": "stream",
     "text": [
      "Seed: 1\n"
     ]
    }
   ],
   "source": [
    "import datetime as dt\n",
    "import time\n",
    "import matplotlib\n",
    "import matplotlib.pyplot as plt\n",
    "import numpy as np\n",
    "\n",
    "#import pyxu.abc as pxa\n",
    "#import pyxu.operator as pxop\n",
    "import pyxu.opt.stop as pxos\n",
    "#from pyxu.opt.solver.pgd import PGD\n",
    "\n",
    "import pfw_hawkes as pyfwl\n",
    "from hawkes_likelihood import HawkesLikelihood\n",
    "\n",
    "seed = 1  # None  # for reproducibility\n",
    "if seed is None:\n",
    "    seed = np.random.randint(0, 1000)\n",
    "print(f\"Seed: {seed}\")"
   ]
  },
  {
   "cell_type": "code",
   "execution_count": 2,
   "metadata": {},
   "outputs": [],
   "source": [
    "%load_ext autoreload\n",
    "%autoreload 2\n",
    "\n",
    "%matplotlib qt"
   ]
  },
  {
   "cell_type": "code",
   "execution_count": 3,
   "metadata": {},
   "outputs": [],
   "source": [
    "# Parameter for reconstruction\n",
    "#lambda_factor = 0.1\n",
    "\n",
    "## Parameters of the solvers\n",
    "# Base\n",
    "remove = True\n",
    "min_iterations = 1\n",
    "# Stop\n",
    "eps = 1e-4\n",
    "tmax = 15.0\n",
    "eps_dcv = 1e-2\n",
    "# PFW\n",
    "ms_threshold = 0.8\n",
    "init_correction = 1e-1\n",
    "final_correction = 1e-6\n",
    "correction_steps = 5"
   ]
  },
  {
   "cell_type": "markdown",
   "metadata": {},
   "source": [
    "### Generation of the source"
   ]
  },
  {
   "cell_type": "code",
   "execution_count": 4,
   "metadata": {},
   "outputs": [],
   "source": [
    "path = \"simulated_data/events0.csv\"\n",
    "hpL = HawkesLikelihood(path=path)"
   ]
  },
  {
   "cell_type": "code",
   "execution_count": 42,
   "metadata": {},
   "outputs": [
    {
     "name": "stdout",
     "output_type": "stream",
     "text": [
      "Computation of the Lipschitz constant: 0.0413\n"
     ]
    }
   ],
   "source": [
    "start = time.time()\n",
    "lip = hpL.opA.estimate_lipschitz(method='svd')\n",
    "print(\"Computation of the Lipschitz constant: {:.4f}\".format(time.time()-start))\n",
    "#np.linalg.svd to compute the largest singular value which is = to the lipschitz constant for linear operators"
   ]
  },
  {
   "cell_type": "code",
   "execution_count": 44,
   "metadata": {},
   "outputs": [],
   "source": [
    "import pyxu"
   ]
  },
  {
   "cell_type": "code",
   "execution_count": 46,
   "metadata": {},
   "outputs": [
    {
     "name": "stdout",
     "output_type": "stream",
     "text": [
      "(1809, 72)\n"
     ]
    }
   ],
   "source": [
    "print(hpL.opA.shape)"
   ]
  },
  {
   "cell_type": "code",
   "execution_count": 45,
   "metadata": {},
   "outputs": [
    {
     "data": {
      "text/plain": [
       "'1.1.0'"
      ]
     },
     "execution_count": 45,
     "metadata": {},
     "output_type": "execute_result"
    }
   ],
   "source": [
    "pyxu.__version__"
   ]
  },
  {
   "cell_type": "code",
   "execution_count": 6,
   "metadata": {},
   "outputs": [],
   "source": [
    "#lambda_ = lambda_factor * np.linalg.norm(op.T(measurements), np.infty)  # rule of thumb to define lambda\n",
    "lambda_ = 10e-5"
   ]
  },
  {
   "cell_type": "markdown",
   "metadata": {},
   "source": [
    "### Defining solvers"
   ]
  },
  {
   "cell_type": "code",
   "execution_count": 7,
   "metadata": {},
   "outputs": [],
   "source": [
    "pfw = pyfwl.PFWLasso(\n",
    "    hpL,  # replace by likelihood operator hpL\n",
    "    hpL.opA,  # replace by hpL.opA\n",
    "    lambda_,\n",
    "    ms_threshold=ms_threshold,\n",
    "    init_correction_prec=init_correction,\n",
    "    final_correction_prec=final_correction,\n",
    "    remove_positions=remove,\n",
    "    min_correction_steps=correction_steps,\n",
    "    show_progress=False,\n",
    ")"
   ]
  },
  {
   "cell_type": "code",
   "execution_count": 8,
   "metadata": {},
   "outputs": [],
   "source": [
    "stop_crit = pxos.RelError(\n",
    "    eps=eps,\n",
    "    var=\"objective_func\",\n",
    "    f=None,\n",
    "    norm=2,\n",
    "    satisfy_all=True,\n",
    ")\n",
    "# alternative stopping criteria\n",
    "dcv = pyfwl.dcvStoppingCrit(eps_dcv)\n",
    "\n",
    "# Minimum number of iterations\n",
    "min_iter = pxos.MaxIter(n=min_iterations)\n",
    "\n",
    "# Maximum duration\n",
    "max_duration = pxos.MaxDuration(t=dt.timedelta(seconds=tmax))\n",
    "\n",
    "stop = (min_iter & stop_crit) | max_duration\n",
    "\n",
    "# track DCV\n",
    "track_dcv = pxos.AbsError(eps=1e-10, var=\"dcv\", f=None, norm=2, satisfy_all=True)"
   ]
  },
  {
   "cell_type": "markdown",
   "metadata": {},
   "source": [
    "### Solving"
   ]
  },
  {
   "cell_type": "code",
   "execution_count": 9,
   "metadata": {},
   "outputs": [
    {
     "name": "stdout",
     "output_type": "stream",
     "text": [
      "Polyatomic FW: Solving ...\n",
      "diff_lipschitz constant provided.\n",
      "\tSolved in 0.012 seconds\n"
     ]
    }
   ],
   "source": [
    "print(\"Polyatomic FW: Solving ...\")\n",
    "start = time.time()\n",
    "pfw.fit(stop_crit= stop | track_dcv, diff_lipschitz=lip**2)\n",
    "data_p, hist_p = pfw.stats()\n",
    "time_p = time.time() - start\n",
    "print(\"\\tSolved in {:.3f} seconds\".format(time_p))\n"
   ]
  },
  {
   "cell_type": "markdown",
   "metadata": {},
   "source": [
    "### Evaluation of the solve"
   ]
  },
  {
   "cell_type": "code",
   "execution_count": 10,
   "metadata": {},
   "outputs": [
    {
     "name": "stdout",
     "output_type": "stream",
     "text": [
      "Final value of dual certificate:\n",
      "\tPFW: -316752137604238.8750\n",
      "Final value of objective function:\n",
      "\tPFW : 37322.60\n"
     ]
    }
   ],
   "source": [
    "print(\"Final value of dual certificate:\\n\\tPFW: {:.4f}\".format(data_p[\"dcv\"]))\n",
    "print(\n",
    "    \"Final value of objective function:\\n\\tPFW : {:.2f}\".format(hist_p[-1][-1]))"
   ]
  },
  {
   "cell_type": "code",
   "execution_count": 11,
   "metadata": {},
   "outputs": [
    {
     "name": "stdout",
     "output_type": "stream",
     "text": [
      "[0. 0. 0. 0. 0. 0. 0. 0. 0. 0. 0. 0. 0. 0. 0. 0. 0. 0. 0. 0. 0. 0. 0. 0.\n",
      " 0. 0. 0. 0. 0. 0. 0. 0. 0. 0. 0. 0. 0. 0. 0. 0. 0. 0. 0. 0. 0. 0. 0. 0.\n",
      " 0. 0. 0. 0. 0. 0. 0. 0. 0. 0. 0. 0. 0. 0. 0. 0. 0. 0. 0. 0. 0. 0. 0. 0.]\n"
     ]
    }
   ],
   "source": [
    "print(data_p[\"x\"])"
   ]
  },
  {
   "cell_type": "code",
   "execution_count": null,
   "metadata": {},
   "outputs": [],
   "source": []
  }
 ],
 "metadata": {
  "kernelspec": {
   "display_name": "Python 3",
   "language": "python",
   "name": "python3"
  },
  "language_info": {
   "codemirror_mode": {
    "name": "ipython",
    "version": 3
   },
   "file_extension": ".py",
   "mimetype": "text/x-python",
   "name": "python",
   "nbconvert_exporter": "python",
   "pygments_lexer": "ipython3",
   "version": "3.10.7"
  }
 },
 "nbformat": 4,
 "nbformat_minor": 2
}

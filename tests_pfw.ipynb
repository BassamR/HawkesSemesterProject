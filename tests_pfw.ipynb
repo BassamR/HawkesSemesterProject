{
 "cells": [
  {
   "cell_type": "code",
   "execution_count": 18,
   "metadata": {},
   "outputs": [
    {
     "name": "stdout",
     "output_type": "stream",
     "text": [
      "Seed: 1\n"
     ]
    }
   ],
   "source": [
    "import datetime as dt\n",
    "import time\n",
    "import matplotlib\n",
    "import matplotlib.pyplot as plt\n",
    "import numpy as np\n",
    "import scipy as sp\n",
    "\n",
    "import pyxu.abc as pxa\n",
    "import pyxu.operator as pxop\n",
    "import pyxu.opt.stop as pxos\n",
    "#from pyxu.opt.solver.pgd import PGD\n",
    "\n",
    "import pfw_hawkes as pyfwl\n",
    "from hawkes_likelihood import HawkesLikelihood\n",
    "import utils as ut\n",
    "\n",
    "seed = 1  # None  # for reproducibility\n",
    "if seed is None:\n",
    "    seed = np.random.randint(0, 1000)\n",
    "print(f\"Seed: {seed}\")"
   ]
  },
  {
   "cell_type": "code",
   "execution_count": 2,
   "metadata": {},
   "outputs": [],
   "source": [
    "%load_ext autoreload\n",
    "%autoreload 2\n",
    "\n",
    "%matplotlib qt"
   ]
  },
  {
   "cell_type": "code",
   "execution_count": null,
   "metadata": {},
   "outputs": [],
   "source": [
    "testarr = np.array([1, 9, 9, 9, 2, 9, 9, 9, 3, 9, 9, 9]) #M=3 => M*(M+1) = 12\n",
    "#[kM + k, kM+k + M] pour la k'eme tranche\n",
    "indices = [index for k in range(3) for index in range(k*3 + k + 1, k*3 + k + 3 + 1)]\n",
    "print(indices)\n",
    "\n",
    "print([testarr[(k*3 + k + 1):(k*3 + k + 3 + 1)] for k in range(0, 3)])\n",
    "print(testarr[indices])"
   ]
  },
  {
   "cell_type": "code",
   "execution_count": 24,
   "metadata": {},
   "outputs": [],
   "source": [
    "# ne pas oublier que le vecteur de parametres theta est dans R^{M^2 + M}\n",
    "testL1norm = ut.L1NormPartialReg(shape=(1,3*(3+1)), S=indices, regLambda=1)"
   ]
  },
  {
   "cell_type": "code",
   "execution_count": 27,
   "metadata": {},
   "outputs": [
    {
     "name": "stdout",
     "output_type": "stream",
     "text": [
      "81.0\n",
      "[1. 8. 8. 8. 2. 8. 8. 8. 3. 8. 8. 8.]\n"
     ]
    }
   ],
   "source": [
    "print(testL1norm(testarr))\n",
    "print(testL1norm.prox(testarr, tau=1))"
   ]
  },
  {
   "cell_type": "code",
   "execution_count": 3,
   "metadata": {},
   "outputs": [],
   "source": [
    "# Parameter for reconstruction\n",
    "#lambda_factor = 0.1\n",
    "\n",
    "## Parameters of the solvers\n",
    "# Base\n",
    "remove = True\n",
    "min_iterations = 1\n",
    "# Stop\n",
    "eps = 1e-4\n",
    "tmax = 15.0\n",
    "eps_dcv = 1e-2\n",
    "# PFW\n",
    "ms_threshold = 0.8\n",
    "init_correction = 1e-1\n",
    "final_correction = 1e-6\n",
    "correction_steps = 5"
   ]
  },
  {
   "cell_type": "markdown",
   "metadata": {},
   "source": [
    "### Generation of the source"
   ]
  },
  {
   "cell_type": "code",
   "execution_count": 4,
   "metadata": {},
   "outputs": [],
   "source": [
    "path = \"simulated_data/events0.csv\"\n",
    "hpL = HawkesLikelihood(path=path)"
   ]
  },
  {
   "cell_type": "code",
   "execution_count": 108,
   "metadata": {},
   "outputs": [
    {
     "name": "stdout",
     "output_type": "stream",
     "text": [
      "Computation time of the Lipschitz constant: 0.0260\n",
      "Lipschitz constant: 205.2870358282836\n"
     ]
    }
   ],
   "source": [
    "start = time.time()\n",
    "lip = hpL.opA.estimate_lipschitz(method='svd')\n",
    "print(\"Computation time of the Lipschitz constant: {:.4f}\".format(time.time()-start))\n",
    "print(\"Lipschitz constant:\", lip)\n",
    "#np.linalg.svd to compute the largest singular value which is = to the lipschitz constant for linear operators"
   ]
  },
  {
   "cell_type": "code",
   "execution_count": 107,
   "metadata": {},
   "outputs": [],
   "source": [
    "# blockDiagA = sp.linalg.block_diag(hpL.A[0], hpL.A[1], hpL.A[2], hpL.A[3], hpL.A[4], hpL.A[5],\n",
    "#                                   hpL.A[6], hpL.A[7])\n",
    "# _, s, _ = np.linalg.svd(blockDiagA)\n",
    "# print(s)\n",
    "# lip = np.max(s)\n",
    "# print(blockDiagA.shape)"
   ]
  },
  {
   "cell_type": "code",
   "execution_count": 91,
   "metadata": {},
   "outputs": [],
   "source": [
    "#lambda_ = lambda_factor * np.linalg.norm(op.T(measurements), np.infty)  # rule of thumb to define lambda\n",
    "lambda_ = 10e-5"
   ]
  },
  {
   "cell_type": "markdown",
   "metadata": {},
   "source": [
    "### Defining solvers"
   ]
  },
  {
   "cell_type": "code",
   "execution_count": 92,
   "metadata": {},
   "outputs": [],
   "source": [
    "pfw = pyfwl.PFWLasso(\n",
    "    hpL,  # replace by likelihood operator hpL\n",
    "    hpL.opA,  # replace by hpL.opA\n",
    "    lambda_,\n",
    "    ms_threshold=ms_threshold,\n",
    "    init_correction_prec=init_correction,\n",
    "    final_correction_prec=final_correction,\n",
    "    remove_positions=remove,\n",
    "    min_correction_steps=correction_steps,\n",
    "    show_progress=False,\n",
    ")"
   ]
  },
  {
   "cell_type": "code",
   "execution_count": 93,
   "metadata": {},
   "outputs": [],
   "source": [
    "stop_crit = pxos.RelError(\n",
    "    eps=eps,\n",
    "    var=\"objective_func\",\n",
    "    f=None,\n",
    "    norm=2,\n",
    "    satisfy_all=True,\n",
    ")\n",
    "# alternative stopping criteria\n",
    "dcv = pyfwl.dcvStoppingCrit(eps_dcv)\n",
    "\n",
    "# Minimum number of iterations\n",
    "min_iter = pxos.MaxIter(n=min_iterations)\n",
    "\n",
    "# Maximum duration\n",
    "max_duration = pxos.MaxDuration(t=dt.timedelta(seconds=tmax))\n",
    "\n",
    "stop = (min_iter & stop_crit) | max_duration\n",
    "\n",
    "# track DCV\n",
    "track_dcv = pxos.AbsError(eps=1e-10, var=\"dcv\", f=None, norm=2, satisfy_all=True)"
   ]
  },
  {
   "cell_type": "markdown",
   "metadata": {},
   "source": [
    "### Solving"
   ]
  },
  {
   "cell_type": "code",
   "execution_count": 94,
   "metadata": {},
   "outputs": [
    {
     "name": "stdout",
     "output_type": "stream",
     "text": [
      "Polyatomic FW: Solving ...\n",
      "diff_lipschitz constant provided.\n",
      "\tSolved in 0.055 seconds\n"
     ]
    }
   ],
   "source": [
    "print(\"Polyatomic FW: Solving ...\")\n",
    "start = time.time()\n",
    "pfw.fit(stop_crit= stop | track_dcv, diff_lipschitz=lip**2)\n",
    "data_p, hist_p = pfw.stats()\n",
    "time_p = time.time() - start\n",
    "print(\"\\tSolved in {:.3f} seconds\".format(time_p))\n"
   ]
  },
  {
   "cell_type": "markdown",
   "metadata": {},
   "source": [
    "### Evaluation of the solve"
   ]
  },
  {
   "cell_type": "code",
   "execution_count": 95,
   "metadata": {},
   "outputs": [
    {
     "name": "stdout",
     "output_type": "stream",
     "text": [
      "Final value of dual certificate:\n",
      "\tPFW: -316752137604238.8750\n",
      "Final value of objective function:\n",
      "\tPFW : 37322.60\n"
     ]
    }
   ],
   "source": [
    "print(\"Final value of dual certificate:\\n\\tPFW: {:.4f}\".format(data_p[\"dcv\"]))\n",
    "print(\n",
    "    \"Final value of objective function:\\n\\tPFW : {:.2f}\".format(hist_p[-1][-1]))"
   ]
  },
  {
   "cell_type": "code",
   "execution_count": 96,
   "metadata": {},
   "outputs": [
    {
     "name": "stdout",
     "output_type": "stream",
     "text": [
      "[0. 0. 0. 0. 0. 0. 0. 0. 0. 0. 0. 0. 0. 0. 0. 0. 0. 0. 0. 0. 0. 0. 0. 0.\n",
      " 0. 0. 0. 0. 0. 0. 0. 0. 0. 0. 0. 0. 0. 0. 0. 0. 0. 0. 0. 0. 0. 0. 0. 0.\n",
      " 0. 0. 0. 0. 0. 0. 0. 0. 0. 0. 0. 0. 0. 0. 0. 0. 0. 0. 0. 0. 0. 0. 0. 0.]\n"
     ]
    }
   ],
   "source": [
    "print(data_p[\"x\"])"
   ]
  },
  {
   "cell_type": "code",
   "execution_count": null,
   "metadata": {},
   "outputs": [],
   "source": []
  }
 ],
 "metadata": {
  "kernelspec": {
   "display_name": "Python 3",
   "language": "python",
   "name": "python3"
  },
  "language_info": {
   "codemirror_mode": {
    "name": "ipython",
    "version": 3
   },
   "file_extension": ".py",
   "mimetype": "text/x-python",
   "name": "python",
   "nbconvert_exporter": "python",
   "pygments_lexer": "ipython3",
   "version": "3.10.7"
  }
 },
 "nbformat": 4,
 "nbformat_minor": 2
}
